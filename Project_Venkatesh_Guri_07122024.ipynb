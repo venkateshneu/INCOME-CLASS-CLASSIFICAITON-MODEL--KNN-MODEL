{
 "cells": [
  {
   "cell_type": "code",
   "execution_count": 1,
   "id": "4af16839",
   "metadata": {},
   "outputs": [],
   "source": [
    "import pandas as pd \n",
    "import numpy as np\n",
    "import matplotlib.pyplot as plt \n",
    "import seaborn as sns "
   ]
  },
  {
   "cell_type": "code",
   "execution_count": 2,
   "id": "33660232",
   "metadata": {},
   "outputs": [],
   "source": [
    "\n",
    "\n",
    "# Define column names\n",
    "column_names = [\n",
    "    \"age\",\n",
    "    \"workclass\",\n",
    "    \"fnlwgt\",\n",
    "    \"education\",\n",
    "    \"education-num\",\n",
    "    \"marital-status\",\n",
    "    \"occupation\",\n",
    "    \"relationship\",\n",
    "    \"race\",\n",
    "    \"sex\",\n",
    "    \"capital-gain\",\n",
    "    \"capital-loss\",\n",
    "    \"hours-per-week\",\n",
    "    \"native-country\",\n",
    "    \"salary\"\n",
    "]\n",
    "\n",
    "# Load dataset with specified column names\n",
    "df = pd.read_csv(\"UpdatedWeek1.csv\", names=column_names)\n",
    "\n",
    "\n"
   ]
  },
  {
   "cell_type": "code",
   "execution_count": 3,
   "id": "1cc333c9",
   "metadata": {},
   "outputs": [
    {
     "name": "stdout",
     "output_type": "stream",
     "text": [
      "<class 'pandas.core.frame.DataFrame'>\n",
      "RangeIndex: 48842 entries, 0 to 48841\n",
      "Data columns (total 15 columns):\n",
      " #   Column          Non-Null Count  Dtype  \n",
      "---  ------          --------------  -----  \n",
      " 0   age             44708 non-null  float64\n",
      " 1   workclass       41197 non-null  object \n",
      " 2   fnlwgt          46170 non-null  float64\n",
      " 3   education       45617 non-null  object \n",
      " 4   education-num   39358 non-null  float64\n",
      " 5   marital-status  44585 non-null  object \n",
      " 6   occupation      37272 non-null  object \n",
      " 7   relationship    38197 non-null  object \n",
      " 8   race            40429 non-null  object \n",
      " 9   sex             36654 non-null  object \n",
      " 10  capital-gain    42148 non-null  float64\n",
      " 11  capital-loss    39504 non-null  float64\n",
      " 12  hours-per-week  36884 non-null  float64\n",
      " 13  native-country  45611 non-null  object \n",
      " 14  salary          39934 non-null  object \n",
      "dtypes: float64(6), object(9)\n",
      "memory usage: 5.6+ MB\n"
     ]
    }
   ],
   "source": [
    "df.info()"
   ]
  },
  {
   "cell_type": "code",
   "execution_count": 4,
   "id": "ea8532ff",
   "metadata": {},
   "outputs": [
    {
     "data": {
      "text/plain": [
       "(48842, 15)"
      ]
     },
     "execution_count": 4,
     "metadata": {},
     "output_type": "execute_result"
    }
   ],
   "source": [
    "df.shape"
   ]
  },
  {
   "cell_type": "code",
   "execution_count": 5,
   "id": "d497f558",
   "metadata": {},
   "outputs": [],
   "source": [
    "#reseting the index\n",
    "df=df.reset_index(drop=True)"
   ]
  },
  {
   "cell_type": "code",
   "execution_count": 6,
   "id": "c019b286",
   "metadata": {},
   "outputs": [
    {
     "data": {
      "text/html": [
       "<div>\n",
       "<style scoped>\n",
       "    .dataframe tbody tr th:only-of-type {\n",
       "        vertical-align: middle;\n",
       "    }\n",
       "\n",
       "    .dataframe tbody tr th {\n",
       "        vertical-align: top;\n",
       "    }\n",
       "\n",
       "    .dataframe thead th {\n",
       "        text-align: right;\n",
       "    }\n",
       "</style>\n",
       "<table border=\"1\" class=\"dataframe\">\n",
       "  <thead>\n",
       "    <tr style=\"text-align: right;\">\n",
       "      <th></th>\n",
       "      <th>age</th>\n",
       "      <th>workclass</th>\n",
       "      <th>fnlwgt</th>\n",
       "      <th>education</th>\n",
       "      <th>education-num</th>\n",
       "      <th>marital-status</th>\n",
       "      <th>occupation</th>\n",
       "      <th>relationship</th>\n",
       "      <th>race</th>\n",
       "      <th>sex</th>\n",
       "      <th>capital-gain</th>\n",
       "      <th>capital-loss</th>\n",
       "      <th>hours-per-week</th>\n",
       "      <th>native-country</th>\n",
       "      <th>salary</th>\n",
       "    </tr>\n",
       "  </thead>\n",
       "  <tbody>\n",
       "    <tr>\n",
       "      <th>0</th>\n",
       "      <td>39.0</td>\n",
       "      <td>State-gov</td>\n",
       "      <td>77516.0</td>\n",
       "      <td>Bachelors</td>\n",
       "      <td>13.0</td>\n",
       "      <td>Never-married</td>\n",
       "      <td>Adm-clerical</td>\n",
       "      <td>Not-in-family</td>\n",
       "      <td>White</td>\n",
       "      <td>Male</td>\n",
       "      <td>2174.0</td>\n",
       "      <td>0.0</td>\n",
       "      <td>40.0</td>\n",
       "      <td>United-States</td>\n",
       "      <td>&lt;=50K</td>\n",
       "    </tr>\n",
       "    <tr>\n",
       "      <th>1</th>\n",
       "      <td>50.0</td>\n",
       "      <td>Self-emp-not-inc</td>\n",
       "      <td>83311.0</td>\n",
       "      <td>Bachelors</td>\n",
       "      <td>13.0</td>\n",
       "      <td>Married-civ-spouse</td>\n",
       "      <td>Exec-managerial</td>\n",
       "      <td>Husband</td>\n",
       "      <td>White</td>\n",
       "      <td>Male</td>\n",
       "      <td>NaN</td>\n",
       "      <td>0.0</td>\n",
       "      <td>NaN</td>\n",
       "      <td>United-States</td>\n",
       "      <td>NaN</td>\n",
       "    </tr>\n",
       "    <tr>\n",
       "      <th>2</th>\n",
       "      <td>38.0</td>\n",
       "      <td>Private</td>\n",
       "      <td>215646.0</td>\n",
       "      <td>HS-grad</td>\n",
       "      <td>9.0</td>\n",
       "      <td>Divorced</td>\n",
       "      <td>Handlers-cleaners</td>\n",
       "      <td>Not-in-family</td>\n",
       "      <td>White</td>\n",
       "      <td>NaN</td>\n",
       "      <td>0.0</td>\n",
       "      <td>NaN</td>\n",
       "      <td>40.0</td>\n",
       "      <td>United-States</td>\n",
       "      <td>&lt;=50K</td>\n",
       "    </tr>\n",
       "    <tr>\n",
       "      <th>3</th>\n",
       "      <td>53.0</td>\n",
       "      <td>Private</td>\n",
       "      <td>234721.0</td>\n",
       "      <td>11th</td>\n",
       "      <td>NaN</td>\n",
       "      <td>Married-civ-spouse</td>\n",
       "      <td>NaN</td>\n",
       "      <td>Husband</td>\n",
       "      <td>Black</td>\n",
       "      <td>NaN</td>\n",
       "      <td>0.0</td>\n",
       "      <td>NaN</td>\n",
       "      <td>40.0</td>\n",
       "      <td>United-States</td>\n",
       "      <td>&lt;=50K</td>\n",
       "    </tr>\n",
       "    <tr>\n",
       "      <th>4</th>\n",
       "      <td>28.0</td>\n",
       "      <td>Private</td>\n",
       "      <td>338409.0</td>\n",
       "      <td>Bachelors</td>\n",
       "      <td>13.0</td>\n",
       "      <td>Married-civ-spouse</td>\n",
       "      <td>Prof-specialty</td>\n",
       "      <td>Wife</td>\n",
       "      <td>Black</td>\n",
       "      <td>NaN</td>\n",
       "      <td>0.0</td>\n",
       "      <td>0.0</td>\n",
       "      <td>NaN</td>\n",
       "      <td>NaN</td>\n",
       "      <td>NaN</td>\n",
       "    </tr>\n",
       "  </tbody>\n",
       "</table>\n",
       "</div>"
      ],
      "text/plain": [
       "    age         workclass    fnlwgt  education  education-num  \\\n",
       "0  39.0         State-gov   77516.0  Bachelors           13.0   \n",
       "1  50.0  Self-emp-not-inc   83311.0  Bachelors           13.0   \n",
       "2  38.0           Private  215646.0    HS-grad            9.0   \n",
       "3  53.0           Private  234721.0       11th            NaN   \n",
       "4  28.0           Private  338409.0  Bachelors           13.0   \n",
       "\n",
       "       marital-status         occupation   relationship   race   sex  \\\n",
       "0       Never-married       Adm-clerical  Not-in-family  White  Male   \n",
       "1  Married-civ-spouse    Exec-managerial        Husband  White  Male   \n",
       "2            Divorced  Handlers-cleaners  Not-in-family  White   NaN   \n",
       "3  Married-civ-spouse                NaN        Husband  Black   NaN   \n",
       "4  Married-civ-spouse     Prof-specialty           Wife  Black   NaN   \n",
       "\n",
       "   capital-gain  capital-loss  hours-per-week native-country salary  \n",
       "0        2174.0           0.0            40.0  United-States  <=50K  \n",
       "1           NaN           0.0             NaN  United-States    NaN  \n",
       "2           0.0           NaN            40.0  United-States  <=50K  \n",
       "3           0.0           NaN            40.0  United-States  <=50K  \n",
       "4           0.0           0.0             NaN            NaN    NaN  "
      ]
     },
     "execution_count": 6,
     "metadata": {},
     "output_type": "execute_result"
    }
   ],
   "source": [
    "df.head()"
   ]
  },
  {
   "cell_type": "code",
   "execution_count": 7,
   "id": "89573a44",
   "metadata": {},
   "outputs": [
    {
     "name": "stdout",
     "output_type": "stream",
     "text": [
      "<class 'pandas.core.frame.DataFrame'>\n",
      "RangeIndex: 48842 entries, 0 to 48841\n",
      "Data columns (total 15 columns):\n",
      " #   Column          Non-Null Count  Dtype  \n",
      "---  ------          --------------  -----  \n",
      " 0   age             44708 non-null  float64\n",
      " 1   workclass       41197 non-null  object \n",
      " 2   fnlwgt          46170 non-null  float64\n",
      " 3   education       45617 non-null  object \n",
      " 4   education-num   39358 non-null  float64\n",
      " 5   marital-status  44585 non-null  object \n",
      " 6   occupation      37272 non-null  object \n",
      " 7   relationship    38197 non-null  object \n",
      " 8   race            40429 non-null  object \n",
      " 9   sex             36654 non-null  object \n",
      " 10  capital-gain    42148 non-null  float64\n",
      " 11  capital-loss    39504 non-null  float64\n",
      " 12  hours-per-week  36884 non-null  float64\n",
      " 13  native-country  45611 non-null  object \n",
      " 14  salary          39934 non-null  object \n",
      "dtypes: float64(6), object(9)\n",
      "memory usage: 5.6+ MB\n"
     ]
    }
   ],
   "source": [
    "df.info()"
   ]
  },
  {
   "cell_type": "code",
   "execution_count": 8,
   "id": "f142c704",
   "metadata": {},
   "outputs": [
    {
     "data": {
      "text/plain": [
       "age                4134\n",
       "workclass          7645\n",
       "fnlwgt             2672\n",
       "education          3225\n",
       "education-num      9484\n",
       "marital-status     4257\n",
       "occupation        11570\n",
       "relationship      10645\n",
       "race               8413\n",
       "sex               12188\n",
       "capital-gain       6694\n",
       "capital-loss       9338\n",
       "hours-per-week    11958\n",
       "native-country     3231\n",
       "salary             8908\n",
       "dtype: int64"
      ]
     },
     "execution_count": 8,
     "metadata": {},
     "output_type": "execute_result"
    }
   ],
   "source": [
    "#Checking null values \n",
    "df.isnull().sum()"
   ]
  },
  {
   "cell_type": "code",
   "execution_count": 9,
   "id": "32466328",
   "metadata": {},
   "outputs": [
    {
     "data": {
      "text/plain": [
       "age                8.464027\n",
       "workclass         15.652512\n",
       "fnlwgt             5.470701\n",
       "education          6.602924\n",
       "education-num     19.417714\n",
       "marital-status     8.715859\n",
       "occupation        23.688629\n",
       "relationship      21.794767\n",
       "race              17.224929\n",
       "sex               24.953933\n",
       "capital-gain      13.705417\n",
       "capital-loss      19.118791\n",
       "hours-per-week    24.483027\n",
       "native-country     6.615208\n",
       "salary            18.238401\n",
       "dtype: float64"
      ]
     },
     "execution_count": 9,
     "metadata": {},
     "output_type": "execute_result"
    }
   ],
   "source": [
    "# Percentage of missing value\n",
    "df.isnull().mean()*100"
   ]
  },
  {
   "cell_type": "code",
   "execution_count": 10,
   "id": "143ed6d9",
   "metadata": {},
   "outputs": [],
   "source": [
    "df[\"age\"]=df[\"age\"].astype(float)"
   ]
  },
  {
   "cell_type": "code",
   "execution_count": 11,
   "id": "7e3d5cfb",
   "metadata": {},
   "outputs": [],
   "source": [
    "import skimpy"
   ]
  },
  {
   "cell_type": "code",
   "execution_count": 12,
   "id": "6c735671",
   "metadata": {},
   "outputs": [
    {
     "data": {
      "text/html": [
       "<pre style=\"white-space:pre;overflow-x:auto;line-height:normal;font-family:Menlo,'DejaVu Sans Mono',consolas,'Courier New',monospace\">╭──────────────────────────────────────────────── skimpy summary ─────────────────────────────────────────────────╮\n",
       "│ <span style=\"font-style: italic\">         Data Summary         </span> <span style=\"font-style: italic\">      Data Types       </span>                                                          │\n",
       "│ ┏━━━━━━━━━━━━━━━━━━━┳━━━━━━━━┓ ┏━━━━━━━━━━━━━┳━━━━━━━┓                                                          │\n",
       "│ ┃<span style=\"color: #008080; text-decoration-color: #008080; font-weight: bold\"> dataframe         </span>┃<span style=\"color: #008080; text-decoration-color: #008080; font-weight: bold\"> Values </span>┃ ┃<span style=\"color: #008080; text-decoration-color: #008080; font-weight: bold\"> Column Type </span>┃<span style=\"color: #008080; text-decoration-color: #008080; font-weight: bold\"> Count </span>┃                                                          │\n",
       "│ ┡━━━━━━━━━━━━━━━━━━━╇━━━━━━━━┩ ┡━━━━━━━━━━━━━╇━━━━━━━┩                                                          │\n",
       "│ │ Number of rows    │ 48842  │ │ string      │ 9     │                                                          │\n",
       "│ │ Number of columns │ 15     │ │ float64     │ 6     │                                                          │\n",
       "│ └───────────────────┴────────┘ └─────────────┴───────┘                                                          │\n",
       "│ <span style=\"font-style: italic\">                                                    number                                                    </span>  │\n",
       "│ ┏━━━━━━━━━━━━━━━━━┳━━━━━━━━┳━━━━━━━━┳━━━━━━━━━┳━━━━━━━━┳━━━━━━━┳━━━━━━━━┳━━━━━━━━┳━━━━━━━━┳━━━━━━━━━┳━━━━━━━━┓  │\n",
       "│ ┃<span style=\"font-weight: bold\"> column_name     </span>┃<span style=\"font-weight: bold\"> NA     </span>┃<span style=\"font-weight: bold\"> NA %   </span>┃<span style=\"font-weight: bold\"> mean    </span>┃<span style=\"font-weight: bold\"> sd     </span>┃<span style=\"font-weight: bold\"> p0    </span>┃<span style=\"font-weight: bold\"> p25    </span>┃<span style=\"font-weight: bold\"> p50    </span>┃<span style=\"font-weight: bold\"> p75    </span>┃<span style=\"font-weight: bold\"> p100    </span>┃<span style=\"font-weight: bold\"> hist   </span>┃  │\n",
       "│ ┡━━━━━━━━━━━━━━━━━╇━━━━━━━━╇━━━━━━━━╇━━━━━━━━━╇━━━━━━━━╇━━━━━━━╇━━━━━━━━╇━━━━━━━━╇━━━━━━━━╇━━━━━━━━━╇━━━━━━━━┩  │\n",
       "│ │ <span style=\"color: #af87ff; text-decoration-color: #af87ff\">age            </span> │ <span style=\"color: #008080; text-decoration-color: #008080\">  4134</span> │ <span style=\"color: #008080; text-decoration-color: #008080\">  8.46</span> │ <span style=\"color: #008080; text-decoration-color: #008080\">     39</span> │ <span style=\"color: #008080; text-decoration-color: #008080\">    14</span> │ <span style=\"color: #008080; text-decoration-color: #008080\">   17</span> │ <span style=\"color: #008080; text-decoration-color: #008080\">    28</span> │ <span style=\"color: #008080; text-decoration-color: #008080\">    37</span> │ <span style=\"color: #008080; text-decoration-color: #008080\">    48</span> │ <span style=\"color: #008080; text-decoration-color: #008080\">     90</span> │ <span style=\"color: #008000; text-decoration-color: #008000\">▇▇▆▃▁ </span> │  │\n",
       "│ │ <span style=\"color: #af87ff; text-decoration-color: #af87ff\">fnlwgt         </span> │ <span style=\"color: #008080; text-decoration-color: #008080\">  2672</span> │ <span style=\"color: #008080; text-decoration-color: #008080\">  5.47</span> │ <span style=\"color: #008080; text-decoration-color: #008080\"> 190000</span> │ <span style=\"color: #008080; text-decoration-color: #008080\">110000</span> │ <span style=\"color: #008080; text-decoration-color: #008080\">12000</span> │ <span style=\"color: #008080; text-decoration-color: #008080\">120000</span> │ <span style=\"color: #008080; text-decoration-color: #008080\">180000</span> │ <span style=\"color: #008080; text-decoration-color: #008080\">240000</span> │ <span style=\"color: #008080; text-decoration-color: #008080\">1500000</span> │ <span style=\"color: #008000; text-decoration-color: #008000\">  ▇▂  </span> │  │\n",
       "│ │ <span style=\"color: #af87ff; text-decoration-color: #af87ff\">education-num  </span> │ <span style=\"color: #008080; text-decoration-color: #008080\">  9484</span> │ <span style=\"color: #008080; text-decoration-color: #008080\"> 19.42</span> │ <span style=\"color: #008080; text-decoration-color: #008080\">     10</span> │ <span style=\"color: #008080; text-decoration-color: #008080\">   2.6</span> │ <span style=\"color: #008080; text-decoration-color: #008080\">    1</span> │ <span style=\"color: #008080; text-decoration-color: #008080\">     9</span> │ <span style=\"color: #008080; text-decoration-color: #008080\">    10</span> │ <span style=\"color: #008080; text-decoration-color: #008080\">    12</span> │ <span style=\"color: #008080; text-decoration-color: #008080\">     16</span> │ <span style=\"color: #008000; text-decoration-color: #008000\"> ▁▁▇▃▁</span> │  │\n",
       "│ │ <span style=\"color: #af87ff; text-decoration-color: #af87ff\">capital-gain   </span> │ <span style=\"color: #008080; text-decoration-color: #008080\">  6694</span> │ <span style=\"color: #008080; text-decoration-color: #008080\"> 13.71</span> │ <span style=\"color: #008080; text-decoration-color: #008080\">   1100</span> │ <span style=\"color: #008080; text-decoration-color: #008080\">  7500</span> │ <span style=\"color: #008080; text-decoration-color: #008080\">    0</span> │ <span style=\"color: #008080; text-decoration-color: #008080\">     0</span> │ <span style=\"color: #008080; text-decoration-color: #008080\">     0</span> │ <span style=\"color: #008080; text-decoration-color: #008080\">     0</span> │ <span style=\"color: #008080; text-decoration-color: #008080\"> 100000</span> │ <span style=\"color: #008000; text-decoration-color: #008000\">  ▇   </span> │  │\n",
       "│ │ <span style=\"color: #af87ff; text-decoration-color: #af87ff\">capital-loss   </span> │ <span style=\"color: #008080; text-decoration-color: #008080\">  9338</span> │ <span style=\"color: #008080; text-decoration-color: #008080\"> 19.12</span> │ <span style=\"color: #008080; text-decoration-color: #008080\">     86</span> │ <span style=\"color: #008080; text-decoration-color: #008080\">   400</span> │ <span style=\"color: #008080; text-decoration-color: #008080\">    0</span> │ <span style=\"color: #008080; text-decoration-color: #008080\">     0</span> │ <span style=\"color: #008080; text-decoration-color: #008080\">     0</span> │ <span style=\"color: #008080; text-decoration-color: #008080\">     0</span> │ <span style=\"color: #008080; text-decoration-color: #008080\">   4400</span> │ <span style=\"color: #008000; text-decoration-color: #008000\">  ▇   </span> │  │\n",
       "│ │ <span style=\"color: #af87ff; text-decoration-color: #af87ff\">hours-per-week </span> │ <span style=\"color: #008080; text-decoration-color: #008080\"> 11958</span> │ <span style=\"color: #008080; text-decoration-color: #008080\"> 24.48</span> │ <span style=\"color: #008080; text-decoration-color: #008080\">     40</span> │ <span style=\"color: #008080; text-decoration-color: #008080\">    12</span> │ <span style=\"color: #008080; text-decoration-color: #008080\">    1</span> │ <span style=\"color: #008080; text-decoration-color: #008080\">    40</span> │ <span style=\"color: #008080; text-decoration-color: #008080\">    40</span> │ <span style=\"color: #008080; text-decoration-color: #008080\">    45</span> │ <span style=\"color: #008080; text-decoration-color: #008080\">     99</span> │ <span style=\"color: #008000; text-decoration-color: #008000\"> ▁▂▇▂ </span> │  │\n",
       "│ └─────────────────┴────────┴────────┴─────────┴────────┴───────┴────────┴────────┴────────┴─────────┴────────┘  │\n",
       "│ <span style=\"font-style: italic\">                                                    string                                                    </span>  │\n",
       "│ ┏━━━━━━━━━━━━━━━━━━━━━━━━━━━━━┳━━━━━━━━━━━━━┳━━━━━━━━━━━━━┳━━━━━━━━━━━━━━━━━━━━━━━━━━━┳━━━━━━━━━━━━━━━━━━━━━━┓  │\n",
       "│ ┃<span style=\"font-weight: bold\"> column_name                 </span>┃<span style=\"font-weight: bold\"> NA          </span>┃<span style=\"font-weight: bold\"> NA %        </span>┃<span style=\"font-weight: bold\"> words per row             </span>┃<span style=\"font-weight: bold\"> total words          </span>┃  │\n",
       "│ ┡━━━━━━━━━━━━━━━━━━━━━━━━━━━━━╇━━━━━━━━━━━━━╇━━━━━━━━━━━━━╇━━━━━━━━━━━━━━━━━━━━━━━━━━━╇━━━━━━━━━━━━━━━━━━━━━━┩  │\n",
       "│ │ <span style=\"color: #af87ff; text-decoration-color: #af87ff\">workclass                  </span> │ <span style=\"color: #008080; text-decoration-color: #008080\">       7645</span> │ <span style=\"color: #008080; text-decoration-color: #008080\">      15.65</span> │ <span style=\"color: #008080; text-decoration-color: #008080\">                     0.84</span> │ <span style=\"color: #008080; text-decoration-color: #008080\">               41197</span> │  │\n",
       "│ │ <span style=\"color: #af87ff; text-decoration-color: #af87ff\">education                  </span> │ <span style=\"color: #008080; text-decoration-color: #008080\">       3225</span> │ <span style=\"color: #008080; text-decoration-color: #008080\">        6.6</span> │ <span style=\"color: #008080; text-decoration-color: #008080\">                     0.93</span> │ <span style=\"color: #008080; text-decoration-color: #008080\">               45617</span> │  │\n",
       "│ │ <span style=\"color: #af87ff; text-decoration-color: #af87ff\">marital-status             </span> │ <span style=\"color: #008080; text-decoration-color: #008080\">       4257</span> │ <span style=\"color: #008080; text-decoration-color: #008080\">       8.72</span> │ <span style=\"color: #008080; text-decoration-color: #008080\">                     0.91</span> │ <span style=\"color: #008080; text-decoration-color: #008080\">               44585</span> │  │\n",
       "│ │ <span style=\"color: #af87ff; text-decoration-color: #af87ff\">occupation                 </span> │ <span style=\"color: #008080; text-decoration-color: #008080\">      11570</span> │ <span style=\"color: #008080; text-decoration-color: #008080\">      23.69</span> │ <span style=\"color: #008080; text-decoration-color: #008080\">                     0.76</span> │ <span style=\"color: #008080; text-decoration-color: #008080\">               37272</span> │  │\n",
       "│ │ <span style=\"color: #af87ff; text-decoration-color: #af87ff\">relationship               </span> │ <span style=\"color: #008080; text-decoration-color: #008080\">      10645</span> │ <span style=\"color: #008080; text-decoration-color: #008080\">      21.79</span> │ <span style=\"color: #008080; text-decoration-color: #008080\">                     0.78</span> │ <span style=\"color: #008080; text-decoration-color: #008080\">               38197</span> │  │\n",
       "│ │ <span style=\"color: #af87ff; text-decoration-color: #af87ff\">race                       </span> │ <span style=\"color: #008080; text-decoration-color: #008080\">       8413</span> │ <span style=\"color: #008080; text-decoration-color: #008080\">      17.22</span> │ <span style=\"color: #008080; text-decoration-color: #008080\">                     0.83</span> │ <span style=\"color: #008080; text-decoration-color: #008080\">               40429</span> │  │\n",
       "│ │ <span style=\"color: #af87ff; text-decoration-color: #af87ff\">sex                        </span> │ <span style=\"color: #008080; text-decoration-color: #008080\">      12188</span> │ <span style=\"color: #008080; text-decoration-color: #008080\">      24.95</span> │ <span style=\"color: #008080; text-decoration-color: #008080\">                     0.75</span> │ <span style=\"color: #008080; text-decoration-color: #008080\">               36654</span> │  │\n",
       "│ │ <span style=\"color: #af87ff; text-decoration-color: #af87ff\">native-country             </span> │ <span style=\"color: #008080; text-decoration-color: #008080\">       3231</span> │ <span style=\"color: #008080; text-decoration-color: #008080\">       6.62</span> │ <span style=\"color: #008080; text-decoration-color: #008080\">                     0.93</span> │ <span style=\"color: #008080; text-decoration-color: #008080\">               45611</span> │  │\n",
       "│ │ <span style=\"color: #af87ff; text-decoration-color: #af87ff\">salary                     </span> │ <span style=\"color: #008080; text-decoration-color: #008080\">       8908</span> │ <span style=\"color: #008080; text-decoration-color: #008080\">      18.24</span> │ <span style=\"color: #008080; text-decoration-color: #008080\">                     0.82</span> │ <span style=\"color: #008080; text-decoration-color: #008080\">               39934</span> │  │\n",
       "│ └─────────────────────────────┴─────────────┴─────────────┴───────────────────────────┴──────────────────────┘  │\n",
       "╰────────────────────────────────────────────────────── End ──────────────────────────────────────────────────────╯\n",
       "</pre>\n"
      ],
      "text/plain": [
       "╭──────────────────────────────────────────────── skimpy summary ─────────────────────────────────────────────────╮\n",
       "│ \u001b[3m         Data Summary         \u001b[0m \u001b[3m      Data Types       \u001b[0m                                                          │\n",
       "│ ┏━━━━━━━━━━━━━━━━━━━┳━━━━━━━━┓ ┏━━━━━━━━━━━━━┳━━━━━━━┓                                                          │\n",
       "│ ┃\u001b[1;36m \u001b[0m\u001b[1;36mdataframe        \u001b[0m\u001b[1;36m \u001b[0m┃\u001b[1;36m \u001b[0m\u001b[1;36mValues\u001b[0m\u001b[1;36m \u001b[0m┃ ┃\u001b[1;36m \u001b[0m\u001b[1;36mColumn Type\u001b[0m\u001b[1;36m \u001b[0m┃\u001b[1;36m \u001b[0m\u001b[1;36mCount\u001b[0m\u001b[1;36m \u001b[0m┃                                                          │\n",
       "│ ┡━━━━━━━━━━━━━━━━━━━╇━━━━━━━━┩ ┡━━━━━━━━━━━━━╇━━━━━━━┩                                                          │\n",
       "│ │ Number of rows    │ 48842  │ │ string      │ 9     │                                                          │\n",
       "│ │ Number of columns │ 15     │ │ float64     │ 6     │                                                          │\n",
       "│ └───────────────────┴────────┘ └─────────────┴───────┘                                                          │\n",
       "│ \u001b[3m                                                    number                                                    \u001b[0m  │\n",
       "│ ┏━━━━━━━━━━━━━━━━━┳━━━━━━━━┳━━━━━━━━┳━━━━━━━━━┳━━━━━━━━┳━━━━━━━┳━━━━━━━━┳━━━━━━━━┳━━━━━━━━┳━━━━━━━━━┳━━━━━━━━┓  │\n",
       "│ ┃\u001b[1m \u001b[0m\u001b[1mcolumn_name    \u001b[0m\u001b[1m \u001b[0m┃\u001b[1m \u001b[0m\u001b[1mNA    \u001b[0m\u001b[1m \u001b[0m┃\u001b[1m \u001b[0m\u001b[1mNA %  \u001b[0m\u001b[1m \u001b[0m┃\u001b[1m \u001b[0m\u001b[1mmean   \u001b[0m\u001b[1m \u001b[0m┃\u001b[1m \u001b[0m\u001b[1msd    \u001b[0m\u001b[1m \u001b[0m┃\u001b[1m \u001b[0m\u001b[1mp0   \u001b[0m\u001b[1m \u001b[0m┃\u001b[1m \u001b[0m\u001b[1mp25   \u001b[0m\u001b[1m \u001b[0m┃\u001b[1m \u001b[0m\u001b[1mp50   \u001b[0m\u001b[1m \u001b[0m┃\u001b[1m \u001b[0m\u001b[1mp75   \u001b[0m\u001b[1m \u001b[0m┃\u001b[1m \u001b[0m\u001b[1mp100   \u001b[0m\u001b[1m \u001b[0m┃\u001b[1m \u001b[0m\u001b[1mhist  \u001b[0m\u001b[1m \u001b[0m┃  │\n",
       "│ ┡━━━━━━━━━━━━━━━━━╇━━━━━━━━╇━━━━━━━━╇━━━━━━━━━╇━━━━━━━━╇━━━━━━━╇━━━━━━━━╇━━━━━━━━╇━━━━━━━━╇━━━━━━━━━╇━━━━━━━━┩  │\n",
       "│ │ \u001b[38;5;141mage            \u001b[0m │ \u001b[36m  4134\u001b[0m │ \u001b[36m  8.46\u001b[0m │ \u001b[36m     39\u001b[0m │ \u001b[36m    14\u001b[0m │ \u001b[36m   17\u001b[0m │ \u001b[36m    28\u001b[0m │ \u001b[36m    37\u001b[0m │ \u001b[36m    48\u001b[0m │ \u001b[36m     90\u001b[0m │ \u001b[32m▇▇▆▃▁ \u001b[0m │  │\n",
       "│ │ \u001b[38;5;141mfnlwgt         \u001b[0m │ \u001b[36m  2672\u001b[0m │ \u001b[36m  5.47\u001b[0m │ \u001b[36m 190000\u001b[0m │ \u001b[36m110000\u001b[0m │ \u001b[36m12000\u001b[0m │ \u001b[36m120000\u001b[0m │ \u001b[36m180000\u001b[0m │ \u001b[36m240000\u001b[0m │ \u001b[36m1500000\u001b[0m │ \u001b[32m  ▇▂  \u001b[0m │  │\n",
       "│ │ \u001b[38;5;141meducation-num  \u001b[0m │ \u001b[36m  9484\u001b[0m │ \u001b[36m 19.42\u001b[0m │ \u001b[36m     10\u001b[0m │ \u001b[36m   2.6\u001b[0m │ \u001b[36m    1\u001b[0m │ \u001b[36m     9\u001b[0m │ \u001b[36m    10\u001b[0m │ \u001b[36m    12\u001b[0m │ \u001b[36m     16\u001b[0m │ \u001b[32m ▁▁▇▃▁\u001b[0m │  │\n",
       "│ │ \u001b[38;5;141mcapital-gain   \u001b[0m │ \u001b[36m  6694\u001b[0m │ \u001b[36m 13.71\u001b[0m │ \u001b[36m   1100\u001b[0m │ \u001b[36m  7500\u001b[0m │ \u001b[36m    0\u001b[0m │ \u001b[36m     0\u001b[0m │ \u001b[36m     0\u001b[0m │ \u001b[36m     0\u001b[0m │ \u001b[36m 100000\u001b[0m │ \u001b[32m  ▇   \u001b[0m │  │\n",
       "│ │ \u001b[38;5;141mcapital-loss   \u001b[0m │ \u001b[36m  9338\u001b[0m │ \u001b[36m 19.12\u001b[0m │ \u001b[36m     86\u001b[0m │ \u001b[36m   400\u001b[0m │ \u001b[36m    0\u001b[0m │ \u001b[36m     0\u001b[0m │ \u001b[36m     0\u001b[0m │ \u001b[36m     0\u001b[0m │ \u001b[36m   4400\u001b[0m │ \u001b[32m  ▇   \u001b[0m │  │\n",
       "│ │ \u001b[38;5;141mhours-per-week \u001b[0m │ \u001b[36m 11958\u001b[0m │ \u001b[36m 24.48\u001b[0m │ \u001b[36m     40\u001b[0m │ \u001b[36m    12\u001b[0m │ \u001b[36m    1\u001b[0m │ \u001b[36m    40\u001b[0m │ \u001b[36m    40\u001b[0m │ \u001b[36m    45\u001b[0m │ \u001b[36m     99\u001b[0m │ \u001b[32m ▁▂▇▂ \u001b[0m │  │\n",
       "│ └─────────────────┴────────┴────────┴─────────┴────────┴───────┴────────┴────────┴────────┴─────────┴────────┘  │\n",
       "│ \u001b[3m                                                    string                                                    \u001b[0m  │\n",
       "│ ┏━━━━━━━━━━━━━━━━━━━━━━━━━━━━━┳━━━━━━━━━━━━━┳━━━━━━━━━━━━━┳━━━━━━━━━━━━━━━━━━━━━━━━━━━┳━━━━━━━━━━━━━━━━━━━━━━┓  │\n",
       "│ ┃\u001b[1m \u001b[0m\u001b[1mcolumn_name                \u001b[0m\u001b[1m \u001b[0m┃\u001b[1m \u001b[0m\u001b[1mNA         \u001b[0m\u001b[1m \u001b[0m┃\u001b[1m \u001b[0m\u001b[1mNA %       \u001b[0m\u001b[1m \u001b[0m┃\u001b[1m \u001b[0m\u001b[1mwords per row            \u001b[0m\u001b[1m \u001b[0m┃\u001b[1m \u001b[0m\u001b[1mtotal words         \u001b[0m\u001b[1m \u001b[0m┃  │\n",
       "│ ┡━━━━━━━━━━━━━━━━━━━━━━━━━━━━━╇━━━━━━━━━━━━━╇━━━━━━━━━━━━━╇━━━━━━━━━━━━━━━━━━━━━━━━━━━╇━━━━━━━━━━━━━━━━━━━━━━┩  │\n",
       "│ │ \u001b[38;5;141mworkclass                  \u001b[0m │ \u001b[36m       7645\u001b[0m │ \u001b[36m      15.65\u001b[0m │ \u001b[36m                     0.84\u001b[0m │ \u001b[36m               41197\u001b[0m │  │\n",
       "│ │ \u001b[38;5;141meducation                  \u001b[0m │ \u001b[36m       3225\u001b[0m │ \u001b[36m        6.6\u001b[0m │ \u001b[36m                     0.93\u001b[0m │ \u001b[36m               45617\u001b[0m │  │\n",
       "│ │ \u001b[38;5;141mmarital-status             \u001b[0m │ \u001b[36m       4257\u001b[0m │ \u001b[36m       8.72\u001b[0m │ \u001b[36m                     0.91\u001b[0m │ \u001b[36m               44585\u001b[0m │  │\n",
       "│ │ \u001b[38;5;141moccupation                 \u001b[0m │ \u001b[36m      11570\u001b[0m │ \u001b[36m      23.69\u001b[0m │ \u001b[36m                     0.76\u001b[0m │ \u001b[36m               37272\u001b[0m │  │\n",
       "│ │ \u001b[38;5;141mrelationship               \u001b[0m │ \u001b[36m      10645\u001b[0m │ \u001b[36m      21.79\u001b[0m │ \u001b[36m                     0.78\u001b[0m │ \u001b[36m               38197\u001b[0m │  │\n",
       "│ │ \u001b[38;5;141mrace                       \u001b[0m │ \u001b[36m       8413\u001b[0m │ \u001b[36m      17.22\u001b[0m │ \u001b[36m                     0.83\u001b[0m │ \u001b[36m               40429\u001b[0m │  │\n",
       "│ │ \u001b[38;5;141msex                        \u001b[0m │ \u001b[36m      12188\u001b[0m │ \u001b[36m      24.95\u001b[0m │ \u001b[36m                     0.75\u001b[0m │ \u001b[36m               36654\u001b[0m │  │\n",
       "│ │ \u001b[38;5;141mnative-country             \u001b[0m │ \u001b[36m       3231\u001b[0m │ \u001b[36m       6.62\u001b[0m │ \u001b[36m                     0.93\u001b[0m │ \u001b[36m               45611\u001b[0m │  │\n",
       "│ │ \u001b[38;5;141msalary                     \u001b[0m │ \u001b[36m       8908\u001b[0m │ \u001b[36m      18.24\u001b[0m │ \u001b[36m                     0.82\u001b[0m │ \u001b[36m               39934\u001b[0m │  │\n",
       "│ └─────────────────────────────┴─────────────┴─────────────┴───────────────────────────┴──────────────────────┘  │\n",
       "╰────────────────────────────────────────────────────── End ──────────────────────────────────────────────────────╯\n"
      ]
     },
     "metadata": {},
     "output_type": "display_data"
    }
   ],
   "source": [
    "skimpy.skim(df)"
   ]
  },
  {
   "cell_type": "code",
   "execution_count": 13,
   "id": "996ae86d",
   "metadata": {},
   "outputs": [],
   "source": [
    "# dropped the \"fnlwgt\" columns as suggested as it is not determined \n",
    "df.drop(columns=\"fnlwgt\", inplace=True)"
   ]
  },
  {
   "cell_type": "code",
   "execution_count": 14,
   "id": "f4a8c95c",
   "metadata": {},
   "outputs": [
    {
     "data": {
      "text/plain": [
       "379"
      ]
     },
     "execution_count": 14,
     "metadata": {},
     "output_type": "execute_result"
    }
   ],
   "source": [
    "# No of duplicates\n",
    "df.duplicated().sum()"
   ]
  },
  {
   "cell_type": "code",
   "execution_count": 15,
   "id": "c59a1f8e",
   "metadata": {},
   "outputs": [
    {
     "data": {
      "text/html": [
       "<div>\n",
       "<style scoped>\n",
       "    .dataframe tbody tr th:only-of-type {\n",
       "        vertical-align: middle;\n",
       "    }\n",
       "\n",
       "    .dataframe tbody tr th {\n",
       "        vertical-align: top;\n",
       "    }\n",
       "\n",
       "    .dataframe thead th {\n",
       "        text-align: right;\n",
       "    }\n",
       "</style>\n",
       "<table border=\"1\" class=\"dataframe\">\n",
       "  <thead>\n",
       "    <tr style=\"text-align: right;\">\n",
       "      <th></th>\n",
       "      <th>age</th>\n",
       "      <th>workclass</th>\n",
       "      <th>education</th>\n",
       "      <th>education-num</th>\n",
       "      <th>marital-status</th>\n",
       "      <th>occupation</th>\n",
       "      <th>relationship</th>\n",
       "      <th>race</th>\n",
       "      <th>sex</th>\n",
       "      <th>capital-gain</th>\n",
       "      <th>capital-loss</th>\n",
       "      <th>hours-per-week</th>\n",
       "      <th>native-country</th>\n",
       "      <th>salary</th>\n",
       "    </tr>\n",
       "  </thead>\n",
       "  <tbody>\n",
       "    <tr>\n",
       "      <th>88</th>\n",
       "      <td>30.0</td>\n",
       "      <td>Private</td>\n",
       "      <td>9th</td>\n",
       "      <td>5.0</td>\n",
       "      <td>Never-married</td>\n",
       "      <td>NaN</td>\n",
       "      <td>Not-in-family</td>\n",
       "      <td>NaN</td>\n",
       "      <td>Male</td>\n",
       "      <td>0.0</td>\n",
       "      <td>0.0</td>\n",
       "      <td>40.0</td>\n",
       "      <td>United-States</td>\n",
       "      <td>&lt;=50K</td>\n",
       "    </tr>\n",
       "    <tr>\n",
       "      <th>225</th>\n",
       "      <td>NaN</td>\n",
       "      <td>Private</td>\n",
       "      <td>HS-grad</td>\n",
       "      <td>9.0</td>\n",
       "      <td>Never-married</td>\n",
       "      <td>Sales</td>\n",
       "      <td>Own-child</td>\n",
       "      <td>White</td>\n",
       "      <td>Female</td>\n",
       "      <td>0.0</td>\n",
       "      <td>0.0</td>\n",
       "      <td>NaN</td>\n",
       "      <td>United-States</td>\n",
       "      <td>&lt;=50K</td>\n",
       "    </tr>\n",
       "    <tr>\n",
       "      <th>261</th>\n",
       "      <td>45.0</td>\n",
       "      <td>Private</td>\n",
       "      <td>HS-grad</td>\n",
       "      <td>9.0</td>\n",
       "      <td>Married-civ-spouse</td>\n",
       "      <td>Sales</td>\n",
       "      <td>Husband</td>\n",
       "      <td>NaN</td>\n",
       "      <td>Male</td>\n",
       "      <td>NaN</td>\n",
       "      <td>0.0</td>\n",
       "      <td>60.0</td>\n",
       "      <td>United-States</td>\n",
       "      <td>&lt;=50K</td>\n",
       "    </tr>\n",
       "    <tr>\n",
       "      <th>305</th>\n",
       "      <td>43.0</td>\n",
       "      <td>Private</td>\n",
       "      <td>HS-grad</td>\n",
       "      <td>9.0</td>\n",
       "      <td>Divorced</td>\n",
       "      <td>Adm-clerical</td>\n",
       "      <td>Not-in-family</td>\n",
       "      <td>White</td>\n",
       "      <td>Female</td>\n",
       "      <td>0.0</td>\n",
       "      <td>0.0</td>\n",
       "      <td>40.0</td>\n",
       "      <td>United-States</td>\n",
       "      <td>&lt;=50K</td>\n",
       "    </tr>\n",
       "    <tr>\n",
       "      <th>556</th>\n",
       "      <td>35.0</td>\n",
       "      <td>Private</td>\n",
       "      <td>HS-grad</td>\n",
       "      <td>9.0</td>\n",
       "      <td>Married-civ-spouse</td>\n",
       "      <td>Machine-op-inspct</td>\n",
       "      <td>Husband</td>\n",
       "      <td>White</td>\n",
       "      <td>Male</td>\n",
       "      <td>0.0</td>\n",
       "      <td>0.0</td>\n",
       "      <td>40.0</td>\n",
       "      <td>United-States</td>\n",
       "      <td>&lt;=50K</td>\n",
       "    </tr>\n",
       "    <tr>\n",
       "      <th>...</th>\n",
       "      <td>...</td>\n",
       "      <td>...</td>\n",
       "      <td>...</td>\n",
       "      <td>...</td>\n",
       "      <td>...</td>\n",
       "      <td>...</td>\n",
       "      <td>...</td>\n",
       "      <td>...</td>\n",
       "      <td>...</td>\n",
       "      <td>...</td>\n",
       "      <td>...</td>\n",
       "      <td>...</td>\n",
       "      <td>...</td>\n",
       "      <td>...</td>\n",
       "    </tr>\n",
       "    <tr>\n",
       "      <th>48483</th>\n",
       "      <td>19.0</td>\n",
       "      <td>?</td>\n",
       "      <td>HS-grad</td>\n",
       "      <td>9.0</td>\n",
       "      <td>Never-married</td>\n",
       "      <td>?</td>\n",
       "      <td>Own-child</td>\n",
       "      <td>White</td>\n",
       "      <td>Male</td>\n",
       "      <td>0.0</td>\n",
       "      <td>NaN</td>\n",
       "      <td>40.0</td>\n",
       "      <td>United-States</td>\n",
       "      <td>&lt;=50K</td>\n",
       "    </tr>\n",
       "    <tr>\n",
       "      <th>48502</th>\n",
       "      <td>19.0</td>\n",
       "      <td>Private</td>\n",
       "      <td>Some-college</td>\n",
       "      <td>10.0</td>\n",
       "      <td>Never-married</td>\n",
       "      <td>Sales</td>\n",
       "      <td>Own-child</td>\n",
       "      <td>White</td>\n",
       "      <td>Female</td>\n",
       "      <td>0.0</td>\n",
       "      <td>0.0</td>\n",
       "      <td>20.0</td>\n",
       "      <td>United-States</td>\n",
       "      <td>&lt;=50K</td>\n",
       "    </tr>\n",
       "    <tr>\n",
       "      <th>48545</th>\n",
       "      <td>25.0</td>\n",
       "      <td>Private</td>\n",
       "      <td>Bachelors</td>\n",
       "      <td>13.0</td>\n",
       "      <td>Never-married</td>\n",
       "      <td>NaN</td>\n",
       "      <td>Not-in-family</td>\n",
       "      <td>White</td>\n",
       "      <td>NaN</td>\n",
       "      <td>0.0</td>\n",
       "      <td>0.0</td>\n",
       "      <td>40.0</td>\n",
       "      <td>United-States</td>\n",
       "      <td>&lt;=50K</td>\n",
       "    </tr>\n",
       "    <tr>\n",
       "      <th>48710</th>\n",
       "      <td>47.0</td>\n",
       "      <td>Private</td>\n",
       "      <td>HS-grad</td>\n",
       "      <td>9.0</td>\n",
       "      <td>Married-civ-spouse</td>\n",
       "      <td>NaN</td>\n",
       "      <td>Husband</td>\n",
       "      <td>White</td>\n",
       "      <td>NaN</td>\n",
       "      <td>0.0</td>\n",
       "      <td>0.0</td>\n",
       "      <td>40.0</td>\n",
       "      <td>United-States</td>\n",
       "      <td>&lt;=50K</td>\n",
       "    </tr>\n",
       "    <tr>\n",
       "      <th>48833</th>\n",
       "      <td>31.0</td>\n",
       "      <td>Private</td>\n",
       "      <td>HS-grad</td>\n",
       "      <td>9.0</td>\n",
       "      <td>Married-civ-spouse</td>\n",
       "      <td>Craft-repair</td>\n",
       "      <td>Husband</td>\n",
       "      <td>White</td>\n",
       "      <td>Male</td>\n",
       "      <td>0.0</td>\n",
       "      <td>0.0</td>\n",
       "      <td>NaN</td>\n",
       "      <td>United-States</td>\n",
       "      <td>&lt;=50K</td>\n",
       "    </tr>\n",
       "  </tbody>\n",
       "</table>\n",
       "<p>718 rows × 14 columns</p>\n",
       "</div>"
      ],
      "text/plain": [
       "        age workclass     education  education-num      marital-status  \\\n",
       "88     30.0   Private           9th            5.0       Never-married   \n",
       "225     NaN   Private       HS-grad            9.0       Never-married   \n",
       "261    45.0   Private       HS-grad            9.0  Married-civ-spouse   \n",
       "305    43.0   Private       HS-grad            9.0            Divorced   \n",
       "556    35.0   Private       HS-grad            9.0  Married-civ-spouse   \n",
       "...     ...       ...           ...            ...                 ...   \n",
       "48483  19.0         ?       HS-grad            9.0       Never-married   \n",
       "48502  19.0   Private  Some-college           10.0       Never-married   \n",
       "48545  25.0   Private     Bachelors           13.0       Never-married   \n",
       "48710  47.0   Private       HS-grad            9.0  Married-civ-spouse   \n",
       "48833  31.0   Private       HS-grad            9.0  Married-civ-spouse   \n",
       "\n",
       "              occupation   relationship   race     sex  capital-gain  \\\n",
       "88                   NaN  Not-in-family    NaN    Male           0.0   \n",
       "225                Sales      Own-child  White  Female           0.0   \n",
       "261                Sales        Husband    NaN    Male           NaN   \n",
       "305         Adm-clerical  Not-in-family  White  Female           0.0   \n",
       "556    Machine-op-inspct        Husband  White    Male           0.0   \n",
       "...                  ...            ...    ...     ...           ...   \n",
       "48483                  ?      Own-child  White    Male           0.0   \n",
       "48502              Sales      Own-child  White  Female           0.0   \n",
       "48545                NaN  Not-in-family  White     NaN           0.0   \n",
       "48710                NaN        Husband  White     NaN           0.0   \n",
       "48833       Craft-repair        Husband  White    Male           0.0   \n",
       "\n",
       "       capital-loss  hours-per-week native-country salary  \n",
       "88              0.0            40.0  United-States  <=50K  \n",
       "225             0.0             NaN  United-States  <=50K  \n",
       "261             0.0            60.0  United-States  <=50K  \n",
       "305             0.0            40.0  United-States  <=50K  \n",
       "556             0.0            40.0  United-States  <=50K  \n",
       "...             ...             ...            ...    ...  \n",
       "48483           NaN            40.0  United-States  <=50K  \n",
       "48502           0.0            20.0  United-States  <=50K  \n",
       "48545           0.0            40.0  United-States  <=50K  \n",
       "48710           0.0            40.0  United-States  <=50K  \n",
       "48833           0.0             NaN  United-States  <=50K  \n",
       "\n",
       "[718 rows x 14 columns]"
      ]
     },
     "execution_count": 15,
     "metadata": {},
     "output_type": "execute_result"
    }
   ],
   "source": [
    "df[df.duplicated(keep=False)]"
   ]
  },
  {
   "cell_type": "code",
   "execution_count": 16,
   "id": "6e74e4df",
   "metadata": {},
   "outputs": [],
   "source": [
    "#Dropped duplicates\n",
    "df=df.drop_duplicates()"
   ]
  },
  {
   "cell_type": "code",
   "execution_count": 17,
   "id": "173f09a2",
   "metadata": {},
   "outputs": [],
   "source": [
    "#Replacing nan values in age with the group median to maintain the consistency "
   ]
  },
  {
   "cell_type": "code",
   "execution_count": 18,
   "id": "e100ea0a",
   "metadata": {},
   "outputs": [
    {
     "name": "stderr",
     "output_type": "stream",
     "text": [
      "C:\\Users\\guriv\\AppData\\Local\\Temp\\ipykernel_13040\\1416188314.py:1: UserWarning: \n",
      "\n",
      "`distplot` is a deprecated function and will be removed in seaborn v0.14.0.\n",
      "\n",
      "Please adapt your code to use either `displot` (a figure-level function with\n",
      "similar flexibility) or `histplot` (an axes-level function for histograms).\n",
      "\n",
      "For a guide to updating your code to use the new functions, please see\n",
      "https://gist.github.com/mwaskom/de44147ed2974457ad6372750bbe5751\n",
      "\n",
      "  sns.distplot(df[\"age\"], kde=True)\n",
      "C:\\Users\\guriv\\anaconda3\\Lib\\site-packages\\seaborn\\_oldcore.py:1119: FutureWarning: use_inf_as_na option is deprecated and will be removed in a future version. Convert inf values to NaN before operating instead.\n",
      "  with pd.option_context('mode.use_inf_as_na', True):\n"
     ]
    },
    {
     "data": {
      "text/plain": [
       "<Axes: xlabel='age', ylabel='Density'>"
      ]
     },
     "execution_count": 18,
     "metadata": {},
     "output_type": "execute_result"
    },
    {
     "data": {
      "image/png": "[encoded data removed]",
      "text/plain": [
       "<Figure size 640x480 with 1 Axes>"
      ]
     },
     "metadata": {},
     "output_type": "display_data"
    }
   ],
   "source": [
    "sns.distplot(df[\"age\"], kde=True)"
   ]
  },
  {
   "cell_type": "code",
   "execution_count": 19,
   "id": "a601e869",
   "metadata": {},
   "outputs": [
    {
     "data": {
      "text/plain": [
       "age    37.0\n",
       "dtype: float64"
      ]
     },
     "execution_count": 19,
     "metadata": {},
     "output_type": "execute_result"
    }
   ],
   "source": [
    "df[[\"age\"]].median()"
   ]
  },
  {
   "cell_type": "code",
   "execution_count": 20,
   "id": "6ad82ff9",
   "metadata": {},
   "outputs": [],
   "source": [
    "# As data is slightly right skewed preferring median to fill null in age column with 8% missing data "
   ]
  },
  {
   "cell_type": "code",
   "execution_count": 21,
   "id": "41b47476",
   "metadata": {},
   "outputs": [
    {
     "name": "stdout",
     "output_type": "stream",
     "text": [
      "Median of age column:  37.0\n",
      "Remaining null values in 'age': 0\n"
     ]
    }
   ],
   "source": [
    "# Ensure 'age' column is numeric\n",
    "df['age'] = pd.to_numeric(df['age'], errors='coerce')\n",
    "\n",
    "# Check the median of the 'age' column\n",
    "print(\"Median of age column: \", df['age'].median())\n",
    "\n",
    "# Create a mask of original non-null values in 'age'\n",
    "mask = df['age'].notnull()\n",
    "\n",
    "# Group by 'relationship' and 'marital-status', calculating group median, and filling only NaN values\n",
    "grouped_median = df.groupby(['relationship', 'marital-status'])['age'].transform(lambda x: x.fillna(x.median()))\n",
    "\n",
    "# Preserving original non-null values by combining them with the filled values using the mask\n",
    "df['age'] = np.where(mask, df['age'], grouped_median)\n",
    "\n",
    "# Fill remaining null values with the overall median\n",
    "df['age'] = df['age'].fillna(df['age'].median())\n",
    "\n",
    "# Ensure 'age' column is numeric after filling\n",
    "df['age'] = pd.to_numeric(df['age'], errors='coerce')\n",
    "\n",
    "# Check for any remaining null values after filling\n",
    "print(\"Remaining null values in 'age':\", df['age'].isnull().sum())"
   ]
  },
  {
   "cell_type": "code",
   "execution_count": 22,
   "id": "c544e6fe",
   "metadata": {},
   "outputs": [
    {
     "data": {
      "text/plain": [
       "workclass\n",
       "Private             28287\n",
       "Self-emp-not-inc     3230\n",
       "Local-gov            2656\n",
       "?                    2333\n",
       "State-gov            1660\n",
       "Self-emp-inc         1427\n",
       "Federal-gov          1214\n",
       "Without-pay            20\n",
       "Never-worked            8\n",
       "Name: count, dtype: int64"
      ]
     },
     "execution_count": 22,
     "metadata": {},
     "output_type": "execute_result"
    }
   ],
   "source": [
    "df[\"workclass\"].value_counts()\n",
    "# \"workclass column has around 15.6% missing data and replacing data with mode "
   ]
  },
  {
   "cell_type": "code",
   "execution_count": 23,
   "id": "26f44685",
   "metadata": {},
   "outputs": [
    {
     "data": {
      "text/html": [
       "<div>\n",
       "<style scoped>\n",
       "    .dataframe tbody tr th:only-of-type {\n",
       "        vertical-align: middle;\n",
       "    }\n",
       "\n",
       "    .dataframe tbody tr th {\n",
       "        vertical-align: top;\n",
       "    }\n",
       "\n",
       "    .dataframe thead th {\n",
       "        text-align: right;\n",
       "    }\n",
       "</style>\n",
       "<table border=\"1\" class=\"dataframe\">\n",
       "  <thead>\n",
       "    <tr style=\"text-align: right;\">\n",
       "      <th></th>\n",
       "      <th>age</th>\n",
       "      <th>workclass</th>\n",
       "      <th>education</th>\n",
       "      <th>education-num</th>\n",
       "      <th>marital-status</th>\n",
       "      <th>occupation</th>\n",
       "      <th>relationship</th>\n",
       "      <th>race</th>\n",
       "      <th>sex</th>\n",
       "      <th>capital-gain</th>\n",
       "      <th>capital-loss</th>\n",
       "      <th>hours-per-week</th>\n",
       "      <th>native-country</th>\n",
       "      <th>salary</th>\n",
       "    </tr>\n",
       "  </thead>\n",
       "  <tbody>\n",
       "    <tr>\n",
       "      <th>66</th>\n",
       "      <td>28.0</td>\n",
       "      <td>Private</td>\n",
       "      <td>NaN</td>\n",
       "      <td>NaN</td>\n",
       "      <td>Divorced</td>\n",
       "      <td>NaN</td>\n",
       "      <td>Not-in-family</td>\n",
       "      <td>White</td>\n",
       "      <td>Female</td>\n",
       "      <td>0.0</td>\n",
       "      <td>0.0</td>\n",
       "      <td>40.0</td>\n",
       "      <td>United-States</td>\n",
       "      <td>&lt;=50K</td>\n",
       "    </tr>\n",
       "    <tr>\n",
       "      <th>191</th>\n",
       "      <td>24.0</td>\n",
       "      <td>Private</td>\n",
       "      <td>NaN</td>\n",
       "      <td>NaN</td>\n",
       "      <td>NaN</td>\n",
       "      <td>Machine-op-inspct</td>\n",
       "      <td>Husband</td>\n",
       "      <td>NaN</td>\n",
       "      <td>NaN</td>\n",
       "      <td>0.0</td>\n",
       "      <td>0.0</td>\n",
       "      <td>40.0</td>\n",
       "      <td>NaN</td>\n",
       "      <td>&lt;=50K</td>\n",
       "    </tr>\n",
       "    <tr>\n",
       "      <th>209</th>\n",
       "      <td>17.0</td>\n",
       "      <td>NaN</td>\n",
       "      <td>NaN</td>\n",
       "      <td>NaN</td>\n",
       "      <td>Never-married</td>\n",
       "      <td>NaN</td>\n",
       "      <td>Own-child</td>\n",
       "      <td>NaN</td>\n",
       "      <td>Female</td>\n",
       "      <td>0.0</td>\n",
       "      <td>0.0</td>\n",
       "      <td>12.0</td>\n",
       "      <td>United-States</td>\n",
       "      <td>&lt;=50K</td>\n",
       "    </tr>\n",
       "    <tr>\n",
       "      <th>226</th>\n",
       "      <td>60.0</td>\n",
       "      <td>?</td>\n",
       "      <td>NaN</td>\n",
       "      <td>NaN</td>\n",
       "      <td>Divorced</td>\n",
       "      <td>?</td>\n",
       "      <td>NaN</td>\n",
       "      <td>Amer-Indian-Eskimo</td>\n",
       "      <td>Female</td>\n",
       "      <td>0.0</td>\n",
       "      <td>0.0</td>\n",
       "      <td>10.0</td>\n",
       "      <td>United-States</td>\n",
       "      <td>&lt;=50K</td>\n",
       "    </tr>\n",
       "    <tr>\n",
       "      <th>285</th>\n",
       "      <td>57.0</td>\n",
       "      <td>Federal-gov</td>\n",
       "      <td>NaN</td>\n",
       "      <td>NaN</td>\n",
       "      <td>Married-civ-spouse</td>\n",
       "      <td>Sales</td>\n",
       "      <td>Husband</td>\n",
       "      <td>White</td>\n",
       "      <td>Male</td>\n",
       "      <td>15024.0</td>\n",
       "      <td>0.0</td>\n",
       "      <td>40.0</td>\n",
       "      <td>United-States</td>\n",
       "      <td>&gt;50K</td>\n",
       "    </tr>\n",
       "    <tr>\n",
       "      <th>...</th>\n",
       "      <td>...</td>\n",
       "      <td>...</td>\n",
       "      <td>...</td>\n",
       "      <td>...</td>\n",
       "      <td>...</td>\n",
       "      <td>...</td>\n",
       "      <td>...</td>\n",
       "      <td>...</td>\n",
       "      <td>...</td>\n",
       "      <td>...</td>\n",
       "      <td>...</td>\n",
       "      <td>...</td>\n",
       "      <td>...</td>\n",
       "      <td>...</td>\n",
       "    </tr>\n",
       "    <tr>\n",
       "      <th>48569</th>\n",
       "      <td>33.0</td>\n",
       "      <td>Private</td>\n",
       "      <td>NaN</td>\n",
       "      <td>NaN</td>\n",
       "      <td>Married-civ-spouse</td>\n",
       "      <td>Craft-repair</td>\n",
       "      <td>Husband</td>\n",
       "      <td>White</td>\n",
       "      <td>Male</td>\n",
       "      <td>NaN</td>\n",
       "      <td>0.0</td>\n",
       "      <td>NaN</td>\n",
       "      <td>United-States</td>\n",
       "      <td>&gt;50K</td>\n",
       "    </tr>\n",
       "    <tr>\n",
       "      <th>48575</th>\n",
       "      <td>28.0</td>\n",
       "      <td>Self-emp-not-inc</td>\n",
       "      <td>NaN</td>\n",
       "      <td>NaN</td>\n",
       "      <td>NaN</td>\n",
       "      <td>NaN</td>\n",
       "      <td>Not-in-family</td>\n",
       "      <td>White</td>\n",
       "      <td>NaN</td>\n",
       "      <td>0.0</td>\n",
       "      <td>0.0</td>\n",
       "      <td>60.0</td>\n",
       "      <td>United-States</td>\n",
       "      <td>&lt;=50K</td>\n",
       "    </tr>\n",
       "    <tr>\n",
       "      <th>48631</th>\n",
       "      <td>36.0</td>\n",
       "      <td>Private</td>\n",
       "      <td>NaN</td>\n",
       "      <td>NaN</td>\n",
       "      <td>Separated</td>\n",
       "      <td>Handlers-cleaners</td>\n",
       "      <td>Unmarried</td>\n",
       "      <td>NaN</td>\n",
       "      <td>Male</td>\n",
       "      <td>0.0</td>\n",
       "      <td>0.0</td>\n",
       "      <td>40.0</td>\n",
       "      <td>United-States</td>\n",
       "      <td>&lt;=50K</td>\n",
       "    </tr>\n",
       "    <tr>\n",
       "      <th>48707</th>\n",
       "      <td>23.0</td>\n",
       "      <td>Local-gov</td>\n",
       "      <td>NaN</td>\n",
       "      <td>NaN</td>\n",
       "      <td>Never-married</td>\n",
       "      <td>Prof-specialty</td>\n",
       "      <td>NaN</td>\n",
       "      <td>White</td>\n",
       "      <td>Female</td>\n",
       "      <td>0.0</td>\n",
       "      <td>0.0</td>\n",
       "      <td>43.0</td>\n",
       "      <td>United-States</td>\n",
       "      <td>NaN</td>\n",
       "    </tr>\n",
       "    <tr>\n",
       "      <th>48785</th>\n",
       "      <td>50.0</td>\n",
       "      <td>NaN</td>\n",
       "      <td>NaN</td>\n",
       "      <td>NaN</td>\n",
       "      <td>Divorced</td>\n",
       "      <td>Craft-repair</td>\n",
       "      <td>Not-in-family</td>\n",
       "      <td>White</td>\n",
       "      <td>NaN</td>\n",
       "      <td>27828.0</td>\n",
       "      <td>0.0</td>\n",
       "      <td>16.0</td>\n",
       "      <td>United-States</td>\n",
       "      <td>&gt;50K</td>\n",
       "    </tr>\n",
       "  </tbody>\n",
       "</table>\n",
       "<p>620 rows × 14 columns</p>\n",
       "</div>"
      ],
      "text/plain": [
       "        age         workclass education  education-num      marital-status  \\\n",
       "66     28.0           Private       NaN            NaN            Divorced   \n",
       "191    24.0           Private       NaN            NaN                 NaN   \n",
       "209    17.0               NaN       NaN            NaN       Never-married   \n",
       "226    60.0                 ?       NaN            NaN            Divorced   \n",
       "285    57.0       Federal-gov       NaN            NaN  Married-civ-spouse   \n",
       "...     ...               ...       ...            ...                 ...   \n",
       "48569  33.0           Private       NaN            NaN  Married-civ-spouse   \n",
       "48575  28.0  Self-emp-not-inc       NaN            NaN                 NaN   \n",
       "48631  36.0           Private       NaN            NaN           Separated   \n",
       "48707  23.0         Local-gov       NaN            NaN       Never-married   \n",
       "48785  50.0               NaN       NaN            NaN            Divorced   \n",
       "\n",
       "              occupation   relationship                race     sex  \\\n",
       "66                   NaN  Not-in-family               White  Female   \n",
       "191    Machine-op-inspct        Husband                 NaN     NaN   \n",
       "209                  NaN      Own-child                 NaN  Female   \n",
       "226                    ?            NaN  Amer-Indian-Eskimo  Female   \n",
       "285                Sales        Husband               White    Male   \n",
       "...                  ...            ...                 ...     ...   \n",
       "48569       Craft-repair        Husband               White    Male   \n",
       "48575                NaN  Not-in-family               White     NaN   \n",
       "48631  Handlers-cleaners      Unmarried                 NaN    Male   \n",
       "48707     Prof-specialty            NaN               White  Female   \n",
       "48785       Craft-repair  Not-in-family               White     NaN   \n",
       "\n",
       "       capital-gain  capital-loss  hours-per-week native-country salary  \n",
       "66              0.0           0.0            40.0  United-States  <=50K  \n",
       "191             0.0           0.0            40.0            NaN  <=50K  \n",
       "209             0.0           0.0            12.0  United-States  <=50K  \n",
       "226             0.0           0.0            10.0  United-States  <=50K  \n",
       "285         15024.0           0.0            40.0  United-States   >50K  \n",
       "...             ...           ...             ...            ...    ...  \n",
       "48569           NaN           0.0             NaN  United-States   >50K  \n",
       "48575           0.0           0.0            60.0  United-States  <=50K  \n",
       "48631           0.0           0.0            40.0  United-States  <=50K  \n",
       "48707           0.0           0.0            43.0  United-States    NaN  \n",
       "48785       27828.0           0.0            16.0  United-States   >50K  \n",
       "\n",
       "[620 rows x 14 columns]"
      ]
     },
     "execution_count": 23,
     "metadata": {},
     "output_type": "execute_result"
    }
   ],
   "source": [
    " df[df[['education', 'education-num']].isnull().all(axis=1)]\n"
   ]
  },
  {
   "cell_type": "code",
   "execution_count": 24,
   "id": "9bdb81e0",
   "metadata": {},
   "outputs": [],
   "source": [
    "#both education and education-num are related to eachother total 620 rows are null values in both columns"
   ]
  },
  {
   "cell_type": "code",
   "execution_count": 25,
   "id": "5c9cc55f",
   "metadata": {},
   "outputs": [
    {
     "data": {
      "text/html": [
       "<div>\n",
       "<style scoped>\n",
       "    .dataframe tbody tr th:only-of-type {\n",
       "        vertical-align: middle;\n",
       "    }\n",
       "\n",
       "    .dataframe tbody tr th {\n",
       "        vertical-align: top;\n",
       "    }\n",
       "\n",
       "    .dataframe thead th {\n",
       "        text-align: right;\n",
       "    }\n",
       "</style>\n",
       "<table border=\"1\" class=\"dataframe\">\n",
       "  <thead>\n",
       "    <tr style=\"text-align: right;\">\n",
       "      <th></th>\n",
       "      <th>age</th>\n",
       "      <th>workclass</th>\n",
       "      <th>education</th>\n",
       "      <th>education-num</th>\n",
       "      <th>marital-status</th>\n",
       "      <th>occupation</th>\n",
       "      <th>relationship</th>\n",
       "      <th>race</th>\n",
       "      <th>sex</th>\n",
       "      <th>capital-gain</th>\n",
       "      <th>capital-loss</th>\n",
       "      <th>hours-per-week</th>\n",
       "      <th>native-country</th>\n",
       "      <th>salary</th>\n",
       "    </tr>\n",
       "  </thead>\n",
       "  <tbody>\n",
       "    <tr>\n",
       "      <th>30</th>\n",
       "      <td>23.0</td>\n",
       "      <td>Local-gov</td>\n",
       "      <td>Assoc-acdm</td>\n",
       "      <td>12.0</td>\n",
       "      <td>Never-married</td>\n",
       "      <td>Protective-serv</td>\n",
       "      <td>Not-in-family</td>\n",
       "      <td>White</td>\n",
       "      <td>Male</td>\n",
       "      <td>0.0</td>\n",
       "      <td>0.0</td>\n",
       "      <td>52.0</td>\n",
       "      <td>United-States</td>\n",
       "      <td>NaN</td>\n",
       "    </tr>\n",
       "    <tr>\n",
       "      <th>76</th>\n",
       "      <td>40.0</td>\n",
       "      <td>Private</td>\n",
       "      <td>Assoc-acdm</td>\n",
       "      <td>12.0</td>\n",
       "      <td>Married-civ-spouse</td>\n",
       "      <td>NaN</td>\n",
       "      <td>NaN</td>\n",
       "      <td>White</td>\n",
       "      <td>Male</td>\n",
       "      <td>NaN</td>\n",
       "      <td>0.0</td>\n",
       "      <td>NaN</td>\n",
       "      <td>United-States</td>\n",
       "      <td>&lt;=50K</td>\n",
       "    </tr>\n",
       "    <tr>\n",
       "      <th>98</th>\n",
       "      <td>48.0</td>\n",
       "      <td>Private</td>\n",
       "      <td>Assoc-acdm</td>\n",
       "      <td>12.0</td>\n",
       "      <td>Divorced</td>\n",
       "      <td>Exec-managerial</td>\n",
       "      <td>Unmarried</td>\n",
       "      <td>NaN</td>\n",
       "      <td>Female</td>\n",
       "      <td>0.0</td>\n",
       "      <td>0.0</td>\n",
       "      <td>40.0</td>\n",
       "      <td>England</td>\n",
       "      <td>&lt;=50K</td>\n",
       "    </tr>\n",
       "    <tr>\n",
       "      <th>127</th>\n",
       "      <td>31.0</td>\n",
       "      <td>Private</td>\n",
       "      <td>Assoc-acdm</td>\n",
       "      <td>12.0</td>\n",
       "      <td>Married-civ-spouse</td>\n",
       "      <td>Adm-clerical</td>\n",
       "      <td>Husband</td>\n",
       "      <td>White</td>\n",
       "      <td>Male</td>\n",
       "      <td>0.0</td>\n",
       "      <td>0.0</td>\n",
       "      <td>40.0</td>\n",
       "      <td>United-States</td>\n",
       "      <td>NaN</td>\n",
       "    </tr>\n",
       "    <tr>\n",
       "      <th>130</th>\n",
       "      <td>28.0</td>\n",
       "      <td>Private</td>\n",
       "      <td>Assoc-acdm</td>\n",
       "      <td>12.0</td>\n",
       "      <td>Never-married</td>\n",
       "      <td>NaN</td>\n",
       "      <td>Not-in-family</td>\n",
       "      <td>NaN</td>\n",
       "      <td>Female</td>\n",
       "      <td>0.0</td>\n",
       "      <td>0.0</td>\n",
       "      <td>60.0</td>\n",
       "      <td>NaN</td>\n",
       "      <td>&lt;=50K</td>\n",
       "    </tr>\n",
       "    <tr>\n",
       "      <th>...</th>\n",
       "      <td>...</td>\n",
       "      <td>...</td>\n",
       "      <td>...</td>\n",
       "      <td>...</td>\n",
       "      <td>...</td>\n",
       "      <td>...</td>\n",
       "      <td>...</td>\n",
       "      <td>...</td>\n",
       "      <td>...</td>\n",
       "      <td>...</td>\n",
       "      <td>...</td>\n",
       "      <td>...</td>\n",
       "      <td>...</td>\n",
       "      <td>...</td>\n",
       "    </tr>\n",
       "    <tr>\n",
       "      <th>48471</th>\n",
       "      <td>34.0</td>\n",
       "      <td>Local-gov</td>\n",
       "      <td>Assoc-acdm</td>\n",
       "      <td>12.0</td>\n",
       "      <td>Married-civ-spouse</td>\n",
       "      <td>Other-service</td>\n",
       "      <td>Husband</td>\n",
       "      <td>White</td>\n",
       "      <td>Male</td>\n",
       "      <td>0.0</td>\n",
       "      <td>0.0</td>\n",
       "      <td>80.0</td>\n",
       "      <td>United-States</td>\n",
       "      <td>&lt;=50K</td>\n",
       "    </tr>\n",
       "    <tr>\n",
       "      <th>48628</th>\n",
       "      <td>44.0</td>\n",
       "      <td>Private</td>\n",
       "      <td>Assoc-acdm</td>\n",
       "      <td>12.0</td>\n",
       "      <td>NaN</td>\n",
       "      <td>Prof-specialty</td>\n",
       "      <td>NaN</td>\n",
       "      <td>White</td>\n",
       "      <td>Female</td>\n",
       "      <td>NaN</td>\n",
       "      <td>NaN</td>\n",
       "      <td>36.0</td>\n",
       "      <td>NaN</td>\n",
       "      <td>&lt;=50K</td>\n",
       "    </tr>\n",
       "    <tr>\n",
       "      <th>48742</th>\n",
       "      <td>35.0</td>\n",
       "      <td>Private</td>\n",
       "      <td>Assoc-acdm</td>\n",
       "      <td>12.0</td>\n",
       "      <td>Married-civ-spouse</td>\n",
       "      <td>NaN</td>\n",
       "      <td>NaN</td>\n",
       "      <td>White</td>\n",
       "      <td>NaN</td>\n",
       "      <td>NaN</td>\n",
       "      <td>NaN</td>\n",
       "      <td>NaN</td>\n",
       "      <td>NaN</td>\n",
       "      <td>&gt;50K</td>\n",
       "    </tr>\n",
       "    <tr>\n",
       "      <th>48764</th>\n",
       "      <td>35.0</td>\n",
       "      <td>Local-gov</td>\n",
       "      <td>Assoc-acdm</td>\n",
       "      <td>12.0</td>\n",
       "      <td>Divorced</td>\n",
       "      <td>Exec-managerial</td>\n",
       "      <td>Not-in-family</td>\n",
       "      <td>NaN</td>\n",
       "      <td>Female</td>\n",
       "      <td>0.0</td>\n",
       "      <td>0.0</td>\n",
       "      <td>NaN</td>\n",
       "      <td>Vietnam</td>\n",
       "      <td>&lt;=50K</td>\n",
       "    </tr>\n",
       "    <tr>\n",
       "      <th>48829</th>\n",
       "      <td>58.0</td>\n",
       "      <td>NaN</td>\n",
       "      <td>Assoc-acdm</td>\n",
       "      <td>12.0</td>\n",
       "      <td>Divorced</td>\n",
       "      <td>Prof-specialty</td>\n",
       "      <td>Not-in-family</td>\n",
       "      <td>White</td>\n",
       "      <td>Male</td>\n",
       "      <td>NaN</td>\n",
       "      <td>0.0</td>\n",
       "      <td>36.0</td>\n",
       "      <td>United-States</td>\n",
       "      <td>&lt;=50K</td>\n",
       "    </tr>\n",
       "  </tbody>\n",
       "</table>\n",
       "<p>1296 rows × 14 columns</p>\n",
       "</div>"
      ],
      "text/plain": [
       "        age  workclass   education  education-num      marital-status  \\\n",
       "30     23.0  Local-gov  Assoc-acdm           12.0       Never-married   \n",
       "76     40.0    Private  Assoc-acdm           12.0  Married-civ-spouse   \n",
       "98     48.0    Private  Assoc-acdm           12.0            Divorced   \n",
       "127    31.0    Private  Assoc-acdm           12.0  Married-civ-spouse   \n",
       "130    28.0    Private  Assoc-acdm           12.0       Never-married   \n",
       "...     ...        ...         ...            ...                 ...   \n",
       "48471  34.0  Local-gov  Assoc-acdm           12.0  Married-civ-spouse   \n",
       "48628  44.0    Private  Assoc-acdm           12.0                 NaN   \n",
       "48742  35.0    Private  Assoc-acdm           12.0  Married-civ-spouse   \n",
       "48764  35.0  Local-gov  Assoc-acdm           12.0            Divorced   \n",
       "48829  58.0        NaN  Assoc-acdm           12.0            Divorced   \n",
       "\n",
       "            occupation   relationship   race     sex  capital-gain  \\\n",
       "30     Protective-serv  Not-in-family  White    Male           0.0   \n",
       "76                 NaN            NaN  White    Male           NaN   \n",
       "98     Exec-managerial      Unmarried    NaN  Female           0.0   \n",
       "127       Adm-clerical        Husband  White    Male           0.0   \n",
       "130                NaN  Not-in-family    NaN  Female           0.0   \n",
       "...                ...            ...    ...     ...           ...   \n",
       "48471    Other-service        Husband  White    Male           0.0   \n",
       "48628   Prof-specialty            NaN  White  Female           NaN   \n",
       "48742              NaN            NaN  White     NaN           NaN   \n",
       "48764  Exec-managerial  Not-in-family    NaN  Female           0.0   \n",
       "48829   Prof-specialty  Not-in-family  White    Male           NaN   \n",
       "\n",
       "       capital-loss  hours-per-week native-country salary  \n",
       "30              0.0            52.0  United-States    NaN  \n",
       "76              0.0             NaN  United-States  <=50K  \n",
       "98              0.0            40.0        England  <=50K  \n",
       "127             0.0            40.0  United-States    NaN  \n",
       "130             0.0            60.0            NaN  <=50K  \n",
       "...             ...             ...            ...    ...  \n",
       "48471           0.0            80.0  United-States  <=50K  \n",
       "48628           NaN            36.0            NaN  <=50K  \n",
       "48742           NaN             NaN            NaN   >50K  \n",
       "48764           0.0             NaN        Vietnam  <=50K  \n",
       "48829           0.0            36.0  United-States  <=50K  \n",
       "\n",
       "[1296 rows x 14 columns]"
      ]
     },
     "execution_count": 25,
     "metadata": {},
     "output_type": "execute_result"
    }
   ],
   "source": [
    "df[df[\"education-num\"]==12.0]"
   ]
  },
  {
   "cell_type": "code",
   "execution_count": 26,
   "id": "57225791",
   "metadata": {},
   "outputs": [],
   "source": [
    "df[\"education-num\"]=df.groupby('education')['education-num'].transform(lambda x: x.fillna(x.mode()[0]))"
   ]
  },
  {
   "cell_type": "code",
   "execution_count": 27,
   "id": "4ff55496",
   "metadata": {},
   "outputs": [
    {
     "data": {
      "text/plain": [
       "3223"
      ]
     },
     "execution_count": 27,
     "metadata": {},
     "output_type": "execute_result"
    }
   ],
   "source": [
    "df.groupby('education-num')['education'].transform(lambda x: x.fillna(x.mode()[0])).isnull().sum()\n"
   ]
  },
  {
   "cell_type": "code",
   "execution_count": 28,
   "id": "80c4e414",
   "metadata": {},
   "outputs": [
    {
     "data": {
      "text/html": [
       "<div>\n",
       "<style scoped>\n",
       "    .dataframe tbody tr th:only-of-type {\n",
       "        vertical-align: middle;\n",
       "    }\n",
       "\n",
       "    .dataframe tbody tr th {\n",
       "        vertical-align: top;\n",
       "    }\n",
       "\n",
       "    .dataframe thead th {\n",
       "        text-align: right;\n",
       "    }\n",
       "</style>\n",
       "<table border=\"1\" class=\"dataframe\">\n",
       "  <thead>\n",
       "    <tr style=\"text-align: right;\">\n",
       "      <th></th>\n",
       "      <th>age</th>\n",
       "      <th>workclass</th>\n",
       "      <th>education</th>\n",
       "      <th>education-num</th>\n",
       "      <th>marital-status</th>\n",
       "      <th>occupation</th>\n",
       "      <th>relationship</th>\n",
       "      <th>race</th>\n",
       "      <th>sex</th>\n",
       "      <th>capital-gain</th>\n",
       "      <th>capital-loss</th>\n",
       "      <th>hours-per-week</th>\n",
       "      <th>native-country</th>\n",
       "      <th>salary</th>\n",
       "    </tr>\n",
       "  </thead>\n",
       "  <tbody>\n",
       "    <tr>\n",
       "      <th>10</th>\n",
       "      <td>37.0</td>\n",
       "      <td>Private</td>\n",
       "      <td>NaN</td>\n",
       "      <td>NaN</td>\n",
       "      <td>Married-civ-spouse</td>\n",
       "      <td>Exec-managerial</td>\n",
       "      <td>Husband</td>\n",
       "      <td>Black</td>\n",
       "      <td>Male</td>\n",
       "      <td>0.0</td>\n",
       "      <td>0.0</td>\n",
       "      <td>80.0</td>\n",
       "      <td>United-States</td>\n",
       "      <td>&gt;50K</td>\n",
       "    </tr>\n",
       "    <tr>\n",
       "      <th>24</th>\n",
       "      <td>59.0</td>\n",
       "      <td>Private</td>\n",
       "      <td>NaN</td>\n",
       "      <td>NaN</td>\n",
       "      <td>Divorced</td>\n",
       "      <td>Tech-support</td>\n",
       "      <td>Unmarried</td>\n",
       "      <td>White</td>\n",
       "      <td>Female</td>\n",
       "      <td>0.0</td>\n",
       "      <td>0.0</td>\n",
       "      <td>40.0</td>\n",
       "      <td>United-States</td>\n",
       "      <td>&lt;=50K</td>\n",
       "    </tr>\n",
       "    <tr>\n",
       "      <th>35</th>\n",
       "      <td>48.0</td>\n",
       "      <td>Private</td>\n",
       "      <td>NaN</td>\n",
       "      <td>NaN</td>\n",
       "      <td>Never-married</td>\n",
       "      <td>Machine-op-inspct</td>\n",
       "      <td>NaN</td>\n",
       "      <td>White</td>\n",
       "      <td>Male</td>\n",
       "      <td>NaN</td>\n",
       "      <td>0.0</td>\n",
       "      <td>40.0</td>\n",
       "      <td>Puerto-Rico</td>\n",
       "      <td>&lt;=50K</td>\n",
       "    </tr>\n",
       "    <tr>\n",
       "      <th>61</th>\n",
       "      <td>32.0</td>\n",
       "      <td>?</td>\n",
       "      <td>NaN</td>\n",
       "      <td>NaN</td>\n",
       "      <td>NaN</td>\n",
       "      <td>?</td>\n",
       "      <td>Not-in-family</td>\n",
       "      <td>White</td>\n",
       "      <td>Male</td>\n",
       "      <td>0.0</td>\n",
       "      <td>0.0</td>\n",
       "      <td>40.0</td>\n",
       "      <td>?</td>\n",
       "      <td>&lt;=50K</td>\n",
       "    </tr>\n",
       "    <tr>\n",
       "      <th>64</th>\n",
       "      <td>29.0</td>\n",
       "      <td>NaN</td>\n",
       "      <td>NaN</td>\n",
       "      <td>NaN</td>\n",
       "      <td>Divorced</td>\n",
       "      <td>Tech-support</td>\n",
       "      <td>Not-in-family</td>\n",
       "      <td>White</td>\n",
       "      <td>Male</td>\n",
       "      <td>0.0</td>\n",
       "      <td>0.0</td>\n",
       "      <td>58.0</td>\n",
       "      <td>United-States</td>\n",
       "      <td>&lt;=50K</td>\n",
       "    </tr>\n",
       "    <tr>\n",
       "      <th>...</th>\n",
       "      <td>...</td>\n",
       "      <td>...</td>\n",
       "      <td>...</td>\n",
       "      <td>...</td>\n",
       "      <td>...</td>\n",
       "      <td>...</td>\n",
       "      <td>...</td>\n",
       "      <td>...</td>\n",
       "      <td>...</td>\n",
       "      <td>...</td>\n",
       "      <td>...</td>\n",
       "      <td>...</td>\n",
       "      <td>...</td>\n",
       "      <td>...</td>\n",
       "    </tr>\n",
       "    <tr>\n",
       "      <th>48782</th>\n",
       "      <td>60.0</td>\n",
       "      <td>Private</td>\n",
       "      <td>NaN</td>\n",
       "      <td>NaN</td>\n",
       "      <td>Married-civ-spouse</td>\n",
       "      <td>NaN</td>\n",
       "      <td>NaN</td>\n",
       "      <td>White</td>\n",
       "      <td>Male</td>\n",
       "      <td>0.0</td>\n",
       "      <td>0.0</td>\n",
       "      <td>60.0</td>\n",
       "      <td>United-States</td>\n",
       "      <td>NaN</td>\n",
       "    </tr>\n",
       "    <tr>\n",
       "      <th>48785</th>\n",
       "      <td>50.0</td>\n",
       "      <td>NaN</td>\n",
       "      <td>NaN</td>\n",
       "      <td>NaN</td>\n",
       "      <td>Divorced</td>\n",
       "      <td>Craft-repair</td>\n",
       "      <td>Not-in-family</td>\n",
       "      <td>White</td>\n",
       "      <td>NaN</td>\n",
       "      <td>27828.0</td>\n",
       "      <td>0.0</td>\n",
       "      <td>16.0</td>\n",
       "      <td>United-States</td>\n",
       "      <td>&gt;50K</td>\n",
       "    </tr>\n",
       "    <tr>\n",
       "      <th>48824</th>\n",
       "      <td>22.0</td>\n",
       "      <td>Private</td>\n",
       "      <td>NaN</td>\n",
       "      <td>NaN</td>\n",
       "      <td>Never-married</td>\n",
       "      <td>Craft-repair</td>\n",
       "      <td>Own-child</td>\n",
       "      <td>White</td>\n",
       "      <td>NaN</td>\n",
       "      <td>0.0</td>\n",
       "      <td>NaN</td>\n",
       "      <td>40.0</td>\n",
       "      <td>United-States</td>\n",
       "      <td>NaN</td>\n",
       "    </tr>\n",
       "    <tr>\n",
       "      <th>48830</th>\n",
       "      <td>37.0</td>\n",
       "      <td>NaN</td>\n",
       "      <td>NaN</td>\n",
       "      <td>NaN</td>\n",
       "      <td>Married-civ-spouse</td>\n",
       "      <td>Handlers-cleaners</td>\n",
       "      <td>NaN</td>\n",
       "      <td>White</td>\n",
       "      <td>Male</td>\n",
       "      <td>0.0</td>\n",
       "      <td>0.0</td>\n",
       "      <td>NaN</td>\n",
       "      <td>United-States</td>\n",
       "      <td>&lt;=50K</td>\n",
       "    </tr>\n",
       "    <tr>\n",
       "      <th>48832</th>\n",
       "      <td>61.0</td>\n",
       "      <td>Private</td>\n",
       "      <td>NaN</td>\n",
       "      <td>NaN</td>\n",
       "      <td>Married-civ-spouse</td>\n",
       "      <td>NaN</td>\n",
       "      <td>Husband</td>\n",
       "      <td>White</td>\n",
       "      <td>Male</td>\n",
       "      <td>NaN</td>\n",
       "      <td>NaN</td>\n",
       "      <td>48.0</td>\n",
       "      <td>United-States</td>\n",
       "      <td>&lt;=50K</td>\n",
       "    </tr>\n",
       "  </tbody>\n",
       "</table>\n",
       "<p>3223 rows × 14 columns</p>\n",
       "</div>"
      ],
      "text/plain": [
       "        age workclass education  education-num      marital-status  \\\n",
       "10     37.0   Private       NaN            NaN  Married-civ-spouse   \n",
       "24     59.0   Private       NaN            NaN            Divorced   \n",
       "35     48.0   Private       NaN            NaN       Never-married   \n",
       "61     32.0         ?       NaN            NaN                 NaN   \n",
       "64     29.0       NaN       NaN            NaN            Divorced   \n",
       "...     ...       ...       ...            ...                 ...   \n",
       "48782  60.0   Private       NaN            NaN  Married-civ-spouse   \n",
       "48785  50.0       NaN       NaN            NaN            Divorced   \n",
       "48824  22.0   Private       NaN            NaN       Never-married   \n",
       "48830  37.0       NaN       NaN            NaN  Married-civ-spouse   \n",
       "48832  61.0   Private       NaN            NaN  Married-civ-spouse   \n",
       "\n",
       "              occupation   relationship   race     sex  capital-gain  \\\n",
       "10       Exec-managerial        Husband  Black    Male           0.0   \n",
       "24          Tech-support      Unmarried  White  Female           0.0   \n",
       "35     Machine-op-inspct            NaN  White    Male           NaN   \n",
       "61                     ?  Not-in-family  White    Male           0.0   \n",
       "64          Tech-support  Not-in-family  White    Male           0.0   \n",
       "...                  ...            ...    ...     ...           ...   \n",
       "48782                NaN            NaN  White    Male           0.0   \n",
       "48785       Craft-repair  Not-in-family  White     NaN       27828.0   \n",
       "48824       Craft-repair      Own-child  White     NaN           0.0   \n",
       "48830  Handlers-cleaners            NaN  White    Male           0.0   \n",
       "48832                NaN        Husband  White    Male           NaN   \n",
       "\n",
       "       capital-loss  hours-per-week native-country salary  \n",
       "10              0.0            80.0  United-States   >50K  \n",
       "24              0.0            40.0  United-States  <=50K  \n",
       "35              0.0            40.0    Puerto-Rico  <=50K  \n",
       "61              0.0            40.0              ?  <=50K  \n",
       "64              0.0            58.0  United-States  <=50K  \n",
       "...             ...             ...            ...    ...  \n",
       "48782           0.0            60.0  United-States    NaN  \n",
       "48785           0.0            16.0  United-States   >50K  \n",
       "48824           NaN            40.0  United-States    NaN  \n",
       "48830           0.0             NaN  United-States  <=50K  \n",
       "48832           NaN            48.0  United-States  <=50K  \n",
       "\n",
       "[3223 rows x 14 columns]"
      ]
     },
     "execution_count": 28,
     "metadata": {},
     "output_type": "execute_result"
    }
   ],
   "source": [
    "df[df[\"education\"].isnull()&df[\"education-num\"].isnull()]"
   ]
  },
  {
   "cell_type": "code",
   "execution_count": 29,
   "id": "83add053",
   "metadata": {},
   "outputs": [
    {
     "name": "stderr",
     "output_type": "stream",
     "text": [
      "C:\\Users\\guriv\\AppData\\Local\\Temp\\ipykernel_13040\\578134636.py:2: FutureWarning: A value is trying to be set on a copy of a DataFrame or Series through chained assignment using an inplace method.\n",
      "The behavior will change in pandas 3.0. This inplace method will never work because the intermediate object on which we are setting values always behaves as a copy.\n",
      "\n",
      "For example, when doing 'df[col].method(value, inplace=True)', try using 'df.method({col: value}, inplace=True)' or df[col] = df[col].method(value) instead, to perform the operation inplace on the original object.\n",
      "\n",
      "\n",
      "  df['education'].fillna(df['education'].mode().iloc[0], inplace=True)\n",
      "C:\\Users\\guriv\\AppData\\Local\\Temp\\ipykernel_13040\\578134636.py:5: FutureWarning: A value is trying to be set on a copy of a DataFrame or Series through chained assignment using an inplace method.\n",
      "The behavior will change in pandas 3.0. This inplace method will never work because the intermediate object on which we are setting values always behaves as a copy.\n",
      "\n",
      "For example, when doing 'df[col].method(value, inplace=True)', try using 'df.method({col: value}, inplace=True)' or df[col] = df[col].method(value) instead, to perform the operation inplace on the original object.\n",
      "\n",
      "\n",
      "  df['education-num'].fillna(df['education-num'].mode().iloc[0], inplace=True)\n"
     ]
    }
   ],
   "source": [
    "# Fill missing values in 'education' column with mode\n",
    "df['education'].fillna(df['education'].mode().iloc[0], inplace=True)\n",
    "\n",
    "# Fill missing values in 'education-num' column with mode\n",
    "df['education-num'].fillna(df['education-num'].mode().iloc[0], inplace=True)"
   ]
  },
  {
   "cell_type": "code",
   "execution_count": 30,
   "id": "0c6b25bb",
   "metadata": {},
   "outputs": [],
   "source": [
    "df[\"workclass\"]=df[\"workclass\"].fillna(\"Private\")"
   ]
  },
  {
   "cell_type": "code",
   "execution_count": 31,
   "id": "92516203",
   "metadata": {},
   "outputs": [
    {
     "data": {
      "text/plain": [
       "sex\n",
       "Male      24249\n",
       "Female    12076\n",
       "Name: count, dtype: int64"
      ]
     },
     "execution_count": 31,
     "metadata": {},
     "output_type": "execute_result"
    }
   ],
   "source": [
    "df[\"sex\"].value_counts()"
   ]
  },
  {
   "cell_type": "code",
   "execution_count": 32,
   "id": "90975701",
   "metadata": {},
   "outputs": [],
   "source": [
    "mask = df['marital-status'].notnull()  # Mask for notNaN values\n",
    "grouped_mode = df.groupby('relationship')['marital-status'].transform(lambda x: x.mode().iloc[0])  # Mode within each group\n",
    "\n",
    "# Apply np.where to apply the strategy\n",
    "df[\"marital-status\"]= np.where(mask, df['marital-status'], grouped_mode)\n"
   ]
  },
  {
   "cell_type": "code",
   "execution_count": 33,
   "id": "286988be",
   "metadata": {},
   "outputs": [],
   "source": [
    "# Calculate mode of 'relationship' within each 'marital-status' group\n",
    "grouped_mode = df.groupby('marital-status')['relationship'].transform(lambda x: x.mode().iloc[0])\n",
    "\n",
    "# Use np.where to fill null values in 'relationship' based on the calculated modes\n",
    "df['relationship'] = np.where(df['relationship'].notnull(), df['relationship'], grouped_mode)"
   ]
  },
  {
   "cell_type": "markdown",
   "id": "50f03d41",
   "metadata": {},
   "source": []
  },
  {
   "cell_type": "code",
   "execution_count": 34,
   "id": "e2d3e77b",
   "metadata": {},
   "outputs": [],
   "source": [
    "df[\"relationship\"]=df[\"relationship\"].fillna(df[\"relationship\"].mode()[0])"
   ]
  },
  {
   "cell_type": "code",
   "execution_count": 35,
   "id": "c71e5166",
   "metadata": {},
   "outputs": [],
   "source": [
    "df[\"marital-status\"]=df[\"marital-status\"].fillna(df[\"relationship\"].mode()[0])"
   ]
  },
  {
   "cell_type": "code",
   "execution_count": 36,
   "id": "71d1b5eb",
   "metadata": {},
   "outputs": [
    {
     "data": {
      "text/plain": [
       "12138"
      ]
     },
     "execution_count": 36,
     "metadata": {},
     "output_type": "execute_result"
    }
   ],
   "source": [
    "df[\"sex\"].isnull().sum()"
   ]
  },
  {
   "cell_type": "code",
   "execution_count": 37,
   "id": "239a5e64",
   "metadata": {},
   "outputs": [],
   "source": [
    "df.drop(index=[23501,27141,38222], inplace=True)"
   ]
  },
  {
   "cell_type": "code",
   "execution_count": 38,
   "id": "ea26f6d4",
   "metadata": {},
   "outputs": [],
   "source": [
    "#Calculate mode of 'sex' within each 'relationship' group\n",
    "grouped_mode = df.groupby('relationship')['sex'].transform(lambda x: x.mode().iloc[0])\n",
    "\n",
    "#Use np.where to fill null values in 'sex' based on the calculated modes\n",
    "df['sex'] = np.where(df['sex'].notnull(), df['sex'], grouped_mode)\n"
   ]
  },
  {
   "cell_type": "code",
   "execution_count": 39,
   "id": "bd9937aa",
   "metadata": {},
   "outputs": [],
   "source": [
    "df.loc[(df[\"sex\"] == \"Female\") & (df[\"relationship\"] == \"Husband\"), \"relationship\"] = \"Wife\""
   ]
  },
  {
   "cell_type": "code",
   "execution_count": 40,
   "id": "e0c5a1e0",
   "metadata": {},
   "outputs": [
    {
     "data": {
      "text/plain": [
       "11444"
      ]
     },
     "execution_count": 40,
     "metadata": {},
     "output_type": "execute_result"
    }
   ],
   "source": [
    "df[\"occupation\"].isnull().sum()"
   ]
  },
  {
   "cell_type": "code",
   "execution_count": 41,
   "id": "ec995e0d",
   "metadata": {},
   "outputs": [],
   "source": [
    "df['occupation'] = df.groupby('education')['occupation'].transform(lambda x: x.fillna(x.mode()[0]))\n"
   ]
  },
  {
   "cell_type": "code",
   "execution_count": 42,
   "id": "cfc9a6fd",
   "metadata": {},
   "outputs": [],
   "source": [
    "df[\"race\"]=df[\"race\"].fillna(\"White\")"
   ]
  },
  {
   "cell_type": "code",
   "execution_count": 43,
   "id": "ddbc9006",
   "metadata": {},
   "outputs": [],
   "source": [
    "df[\"native-country\"]=df[\"native-country\"].fillna(\"United-States\")"
   ]
  },
  {
   "cell_type": "code",
   "execution_count": 44,
   "id": "98f58dea",
   "metadata": {},
   "outputs": [
    {
     "data": {
      "text/plain": [
       "1089.8539971278124"
      ]
     },
     "execution_count": 44,
     "metadata": {},
     "output_type": "execute_result"
    }
   ],
   "source": [
    "df[\"capital-gain\"].mean()\n"
   ]
  },
  {
   "cell_type": "code",
   "execution_count": 45,
   "id": "b0374a19",
   "metadata": {},
   "outputs": [
    {
     "data": {
      "text/plain": [
       "40.37446401747918"
      ]
     },
     "execution_count": 45,
     "metadata": {},
     "output_type": "execute_result"
    }
   ],
   "source": [
    "df[\"hours-per-week\"].mean()"
   ]
  },
  {
   "cell_type": "code",
   "execution_count": 46,
   "id": "03d2743c",
   "metadata": {},
   "outputs": [
    {
     "data": {
      "text/plain": [
       "40.0"
      ]
     },
     "execution_count": 46,
     "metadata": {},
     "output_type": "execute_result"
    }
   ],
   "source": [
    "df[\"hours-per-week\"].median()"
   ]
  },
  {
   "cell_type": "code",
   "execution_count": 47,
   "id": "437ca25f",
   "metadata": {},
   "outputs": [
    {
     "name": "stderr",
     "output_type": "stream",
     "text": [
      "C:\\Users\\guriv\\AppData\\Local\\Temp\\ipykernel_13040\\4019916806.py:2: FutureWarning: A value is trying to be set on a copy of a DataFrame or Series through chained assignment using an inplace method.\n",
      "The behavior will change in pandas 3.0. This inplace method will never work because the intermediate object on which we are setting values always behaves as a copy.\n",
      "\n",
      "For example, when doing 'df[col].method(value, inplace=True)', try using 'df.method({col: value}, inplace=True)' or df[col] = df[col].method(value) instead, to perform the operation inplace on the original object.\n",
      "\n",
      "\n",
      "  df['hours-per-week'].fillna(median_hours_per_week, inplace=True)\n"
     ]
    }
   ],
   "source": [
    "median_hours_per_week = df['hours-per-week'].median()\n",
    "df['hours-per-week'].fillna(median_hours_per_week, inplace=True)"
   ]
  },
  {
   "cell_type": "code",
   "execution_count": 48,
   "id": "1cbe3df7",
   "metadata": {},
   "outputs": [
    {
     "name": "stdout",
     "output_type": "stream",
     "text": [
      "workclass\n",
      "Private             38246\n",
      "Self-emp-not-inc     3230\n",
      "Local-gov            2655\n",
      "State-gov            1660\n",
      "Self-emp-inc         1427\n",
      "Federal-gov          1214\n",
      "Without-pay            20\n",
      "Never-worked            8\n",
      "Name: count, dtype: int64\n"
     ]
    }
   ],
   "source": [
    "# Calculate the mode of the 'workclass' column\n",
    "mode_workclass = df['workclass'].mode()[0]\n",
    "\n",
    "# Replace '?' with the mode\n",
    "df['workclass'] = df['workclass'].replace('?', mode_workclass)\n",
    "\n",
    "# Check the updated value counts\n",
    "print(df['workclass'].value_counts())\n"
   ]
  },
  {
   "cell_type": "code",
   "execution_count": 49,
   "id": "89d1b7e2",
   "metadata": {},
   "outputs": [],
   "source": [
    "df.dropna(subset=['salary'], inplace=True)\n"
   ]
  },
  {
   "cell_type": "code",
   "execution_count": 50,
   "id": "1ef80945",
   "metadata": {},
   "outputs": [
    {
     "data": {
      "text/plain": [
       "capital-gain\n",
       "0.0        31273\n",
       "15024.0      363\n",
       "7688.0       297\n",
       "7298.0       251\n",
       "99999.0      174\n",
       "           ...  \n",
       "1639.0         1\n",
       "2387.0         1\n",
       "7978.0         1\n",
       "6767.0         1\n",
       "6612.0         1\n",
       "Name: count, Length: 120, dtype: int64"
      ]
     },
     "execution_count": 50,
     "metadata": {},
     "output_type": "execute_result"
    }
   ],
   "source": [
    "df[\"capital-gain\"].value_counts()\n",
    "# for 70% of data the value is zero"
   ]
  },
  {
   "cell_type": "code",
   "execution_count": 51,
   "id": "7da5e6dd",
   "metadata": {},
   "outputs": [],
   "source": [
    "df.drop(columns=[\"capital-gain\",\"capital-loss\",\"education\"], inplace=True)"
   ]
  },
  {
   "cell_type": "code",
   "execution_count": 52,
   "id": "1b88d579",
   "metadata": {},
   "outputs": [
    {
     "data": {
      "image/png": "[encoded data removed]",
      "text/plain": [
       "<Figure size 1000x600 with 1 Axes>"
      ]
     },
     "metadata": {},
     "output_type": "display_data"
    }
   ],
   "source": [
    "import seaborn as sns\n",
    "import matplotlib.pyplot as plt\n",
    "\n",
    "# Boxplot of age by salary\n",
    "plt.figure(figsize=(10, 6))\n",
    "sns.boxplot(x='salary', y='age', data=df)\n",
    "plt.title('Age vs Salary')\n",
    "plt.xlabel('Salary')\n",
    "plt.ylabel('Age')\n",
    "plt.show()\n"
   ]
  },
  {
   "cell_type": "code",
   "execution_count": 54,
   "id": "729f12eb",
   "metadata": {},
   "outputs": [
    {
     "data": {
      "image/png": "[encoded data removed]",
      "text/plain": [
       "<Figure size 640x480 with 2 Axes>"
      ]
     },
     "metadata": {},
     "output_type": "display_data"
    }
   ],
   "source": [
    "crosstab=pd.crosstab(df[\"sex\"],df[\"salary\"])\n",
    "sns.heatmap(crosstab, annot=True, cmap='coolwarm', fmt='d')\n",
    "plt.title('Heatmap of Salary by Sex')\n",
    "plt.xlabel('Salary')\n",
    "plt.ylabel('Sex')\n",
    "plt.show()"
   ]
  },
  {
   "cell_type": "code",
   "execution_count": 55,
   "id": "7386110d",
   "metadata": {},
   "outputs": [],
   "source": [
    "# label encoding the target variable\n",
    "from sklearn.preprocessing import LabelEncoder\n",
    "\n",
    "# Instantiate the label encoder\n",
    "le = LabelEncoder()\n",
    "\n",
    "# Fit and transform the salary column\n",
    "df['salary'] = le.fit_transform(df['salary'])\n",
    "\n",
    "\n"
   ]
  },
  {
   "cell_type": "code",
   "execution_count": 56,
   "id": "4aea62e3",
   "metadata": {},
   "outputs": [],
   "source": [
    "from sklearn.preprocessing import OneHotEncoder"
   ]
  },
  {
   "cell_type": "code",
   "execution_count": 57,
   "id": "f5cae0cf",
   "metadata": {},
   "outputs": [
    {
     "name": "stdout",
     "output_type": "stream",
     "text": [
      "age               0\n",
      "workclass         0\n",
      "education-num     0\n",
      "marital-status    0\n",
      "occupation        0\n",
      "relationship      0\n",
      "race              0\n",
      "sex               0\n",
      "hours-per-week    0\n",
      "native-country    0\n",
      "salary            0\n",
      "dtype: int64\n"
     ]
    }
   ],
   "source": [
    "import pandas as pd\n",
    "import seaborn as sns\n",
    "import matplotlib.pyplot as plt\n",
    "from sklearn.preprocessing import OrdinalEncoder\n",
    "\n",
    "# Assuming df is your original DataFrame and cat_cols are your categorical columns\n",
    "cat_cols = ['workclass', 'marital-status', 'occupation', 'relationship', 'race', 'sex', 'native-country']\n",
    "\n",
    "# Initialize OrdinalEncoder\n",
    "encoder = OrdinalEncoder()\n",
    "\n",
    "# Fit and transform categorical columns\n",
    "df[cat_cols] = encoder.fit_transform(df[cat_cols])\n",
    "\n",
    "# Check for missing values after encoding\n",
    "print(df.isnull().sum())\n",
    "\n",
    "# Concatenate encoded columns with original DataFrame excluding original categorical columns\n",
    "df_encoded = pd.concat([df.drop(columns=cat_cols), df[cat_cols]], axis=1)\n",
    "\n",
    "\n"
   ]
  },
  {
   "cell_type": "code",
   "execution_count": 58,
   "id": "afa8692b",
   "metadata": {},
   "outputs": [
    {
     "name": "stdout",
     "output_type": "stream",
     "text": [
      "Highly correlated features with 'salary':\n",
      "salary            1.000000\n",
      "education-num     0.318823\n",
      "relationship      0.227438\n",
      "age               0.227120\n",
      "hours-per-week    0.195776\n",
      "sex               0.178768\n",
      "marital-status    0.142224\n",
      "occupation        0.101328\n",
      "Name: salary, dtype: float64\n",
      "\n",
      "Selected DataFrame with correlated features:\n"
     ]
    },
    {
     "data": {
      "image/png": "[encoded data removed]",
      "text/plain": [
       "<Figure size 1000x800 with 2 Axes>"
      ]
     },
     "metadata": {},
     "output_type": "display_data"
    }
   ],
   "source": [
    "import numpy as np\n",
    "\n",
    "# Calculate Pearson correlation coefficients\n",
    "correlations = df_encoded.corr()['salary'].abs().sort_values(ascending=False)\n",
    "\n",
    "# Select features with correlation greater than a threshold (e.g., 0.1)\n",
    "high_corr_features = correlations[correlations > 0.1].index.tolist()\n",
    "\n",
    "# Print selected features and their correlation values\n",
    "print(\"Highly correlated features with 'salary':\")\n",
    "print(correlations[high_corr_features])\n",
    "\n",
    "# Subset your DataFrame with selected features\n",
    "df_selected_features = df_encoded[high_corr_features]\n",
    "\n",
    "# Display the selected features\n",
    "print(\"\\nSelected DataFrame with correlated features:\")\n",
    "df_selected_features.head()\n",
    "import seaborn as sns\n",
    "import matplotlib.pyplot as plt\n",
    "\n",
    "# Calculate correlations among selected features\n",
    "corr_selected = df_selected_features.corr()\n",
    "\n",
    "# Plotting the heatmap\n",
    "plt.figure(figsize=(10, 8))\n",
    "sns.heatmap(corr_selected, annot=True, cmap='coolwarm', fmt='.2f')\n",
    "plt.title('Correlation Heatmap of Selected Features')\n",
    "plt.show()\n",
    "\n"
   ]
  },
  {
   "cell_type": "code",
   "execution_count": 59,
   "id": "2f4b48be",
   "metadata": {},
   "outputs": [
    {
     "data": {
      "text/plain": [
       "salary            1.000000\n",
       "education-num     0.318823\n",
       "age               0.227120\n",
       "hours-per-week    0.195776\n",
       "sex               0.178768\n",
       "occupation        0.101328\n",
       "race              0.064223\n",
       "native-country    0.015804\n",
       "workclass        -0.002110\n",
       "marital-status   -0.142224\n",
       "relationship     -0.227438\n",
       "Name: salary, dtype: float64"
      ]
     },
     "execution_count": 59,
     "metadata": {},
     "output_type": "execute_result"
    }
   ],
   "source": [
    "correlation=df_encoded.corr()[\"salary\"].sort_values(ascending=False)\n",
    "correlation\n"
   ]
  },
  {
   "cell_type": "code",
   "execution_count": 60,
   "id": "8465fc77",
   "metadata": {},
   "outputs": [
    {
     "data": {
      "text/html": [
       "<div>\n",
       "<style scoped>\n",
       "    .dataframe tbody tr th:only-of-type {\n",
       "        vertical-align: middle;\n",
       "    }\n",
       "\n",
       "    .dataframe tbody tr th {\n",
       "        vertical-align: top;\n",
       "    }\n",
       "\n",
       "    .dataframe thead th {\n",
       "        text-align: right;\n",
       "    }\n",
       "</style>\n",
       "<table border=\"1\" class=\"dataframe\">\n",
       "  <thead>\n",
       "    <tr style=\"text-align: right;\">\n",
       "      <th></th>\n",
       "      <th>variables</th>\n",
       "      <th>corr_score</th>\n",
       "    </tr>\n",
       "  </thead>\n",
       "  <tbody>\n",
       "    <tr>\n",
       "      <th>0</th>\n",
       "      <td>salary</td>\n",
       "      <td>1.000000</td>\n",
       "    </tr>\n",
       "    <tr>\n",
       "      <th>1</th>\n",
       "      <td>education-num</td>\n",
       "      <td>0.318823</td>\n",
       "    </tr>\n",
       "    <tr>\n",
       "      <th>2</th>\n",
       "      <td>age</td>\n",
       "      <td>0.227120</td>\n",
       "    </tr>\n",
       "    <tr>\n",
       "      <th>3</th>\n",
       "      <td>hours-per-week</td>\n",
       "      <td>0.195776</td>\n",
       "    </tr>\n",
       "    <tr>\n",
       "      <th>4</th>\n",
       "      <td>sex</td>\n",
       "      <td>0.178768</td>\n",
       "    </tr>\n",
       "    <tr>\n",
       "      <th>5</th>\n",
       "      <td>occupation</td>\n",
       "      <td>0.101328</td>\n",
       "    </tr>\n",
       "    <tr>\n",
       "      <th>6</th>\n",
       "      <td>race</td>\n",
       "      <td>0.064223</td>\n",
       "    </tr>\n",
       "    <tr>\n",
       "      <th>7</th>\n",
       "      <td>native-country</td>\n",
       "      <td>0.015804</td>\n",
       "    </tr>\n",
       "    <tr>\n",
       "      <th>8</th>\n",
       "      <td>workclass</td>\n",
       "      <td>-0.002110</td>\n",
       "    </tr>\n",
       "    <tr>\n",
       "      <th>9</th>\n",
       "      <td>marital-status</td>\n",
       "      <td>-0.142224</td>\n",
       "    </tr>\n",
       "    <tr>\n",
       "      <th>10</th>\n",
       "      <td>relationship</td>\n",
       "      <td>-0.227438</td>\n",
       "    </tr>\n",
       "  </tbody>\n",
       "</table>\n",
       "</div>"
      ],
      "text/plain": [
       "         variables  corr_score\n",
       "0           salary    1.000000\n",
       "1    education-num    0.318823\n",
       "2              age    0.227120\n",
       "3   hours-per-week    0.195776\n",
       "4              sex    0.178768\n",
       "5       occupation    0.101328\n",
       "6             race    0.064223\n",
       "7   native-country    0.015804\n",
       "8        workclass   -0.002110\n",
       "9   marital-status   -0.142224\n",
       "10    relationship   -0.227438"
      ]
     },
     "execution_count": 60,
     "metadata": {},
     "output_type": "execute_result"
    }
   ],
   "source": [
    "pd.DataFrame(correlation).reset_index().rename(columns ={\"index\":\"variables\",\"salary\":\"corr_score\"} )"
   ]
  },
  {
   "cell_type": "code",
   "execution_count": 62,
   "id": "23559a72",
   "metadata": {},
   "outputs": [],
   "source": [
    "from sklearn.model_selection import train_test_split\n",
    "from sklearn.neighbors import KNeighborsClassifier\n",
    "from sklearn.metrics import confusion_matrix, accuracy_score\n",
    "from sklearn.preprocessing import StandardScaler\n",
    "\n",
    "# Features and target\n",
    "X = df_encoded[[\"age\", \"education-num\", \"hours-per-week\"]]\n",
    "y = df_encoded[\"salary\"]\n",
    "\n",
    "# Split data into train and test sets\n",
    "X_train, X_test, y_train, y_test = train_test_split(X, y, test_size=0.2, random_state=42)\n",
    "\n",
    "# Scale the features\n",
    "scaler = StandardScaler()\n",
    "X_train_scaled = scaler.fit_transform(X_train)\n",
    "X_test_scaled = scaler.transform(X_test)"
   ]
  },
  {
   "cell_type": "code",
   "execution_count": 63,
   "id": "5acb515e",
   "metadata": {},
   "outputs": [],
   "source": [
    "import matplotlib.pyplot as plt\n",
    "import seaborn as sns\n",
    "from sklearn.metrics import confusion_matrix, accuracy_score\n",
    "\n",
    "# Define K values to evaluate\n",
    "k_values = range(5, 26)\n",
    "\n",
    "# Initialize dictionaries to store models, confusion matrices, and accuracies\n",
    "models = {}\n",
    "confusion_matrices = {}\n",
    "accuracies = []\n",
    "\n",
    "# Train KNN models and evaluate performance\n",
    "for k in k_values:\n",
    "    models[k] = KNeighborsClassifier(n_neighbors=k)\n",
    "    models[k].fit(X_train_scaled, y_train)\n",
    "    y_pred = models[k].predict(X_test_scaled)\n",
    "    cm = confusion_matrix(y_test, y_pred)\n",
    "    confusion_matrices[k] = cm\n",
    "    accuracies.append((k, accuracy_score(y_test, y_pred)))"
   ]
  },
  {
   "cell_type": "code",
   "execution_count": 64,
   "id": "703bb5cd",
   "metadata": {},
   "outputs": [
    {
     "data": {
      "image/png": "[encoded data removed]",
      "text/plain": [
       "<Figure size 1000x800 with 2 Axes>"
      ]
     },
     "metadata": {},
     "output_type": "display_data"
    },
    {
     "data": {
      "image/png": "[encoded data removed]",
      "text/plain": [
       "<Figure size 1000x800 with 2 Axes>"
      ]
     },
     "metadata": {},
     "output_type": "display_data"
    },
    {
     "data": {
      "image/png": "[encoded data removed]",
      "text/plain": [
       "<Figure size 1000x800 with 2 Axes>"
      ]
     },
     "metadata": {},
     "output_type": "display_data"
    }
   ],
   "source": [
    "# Plotting heatmaps for confusion matrices\n",
    "for k in [5, 15, 25]:  # Choosing a few K values to display\n",
    "    cm = confusion_matrices[k]\n",
    "    \n",
    "    # Create a figure with appropriate size\n",
    "    plt.figure(figsize=(10, 8))\n",
    "    \n",
    "    # Plot heatmap using Seaborn\n",
    "    sns.heatmap(cm, annot=True, cmap='Blues', fmt='d', \n",
    "                xticklabels=['<=50K', '>50K'], yticklabels=['<=50K', '>50K'])\n",
    "    \n",
    "    # Add labels and title\n",
    "    plt.xlabel('Predicted')\n",
    "    plt.ylabel('True')\n",
    "    plt.title(f'Confusion Matrix for K = {k}')\n",
    "    \n",
    "    # Display accuracy below the heatmap\n",
    "    plt.text(0.5, -0.1, f'Accuracy: {accuracy_score(y_test, models[k].predict(X_test_scaled)):.2f}', \n",
    "             horizontalalignment='center', verticalalignment='center', transform=plt.gca().transAxes)\n",
    "    \n",
    "    # Show plot\n",
    "    plt.show()"
   ]
  },
  {
   "cell_type": "code",
   "execution_count": 65,
   "id": "20a86746",
   "metadata": {},
   "outputs": [
    {
     "data": {
      "image/png": "[encoded data removed]",
      "text/plain": [
       "<Figure size 1000x600 with 1 Axes>"
      ]
     },
     "metadata": {},
     "output_type": "display_data"
    }
   ],
   "source": [
    "# Extract K values and their corresponding accuracies\n",
    "k_list, accuracy_list = zip(*accuracies)\n",
    "\n",
    "# Plot accuracy for different K values\n",
    "plt.figure(figsize=(10, 6))\n",
    "plt.plot(k_list, accuracy_list, marker='o', linestyle='-', color='b')\n",
    "plt.title('Accuracy for Different K Values')\n",
    "plt.xlabel('K Value')\n",
    "plt.ylabel('Accuracy')\n",
    "plt.grid(True)\n",
    "plt.show()\n"
   ]
  },
  {
   "cell_type": "code",
   "execution_count": 66,
   "id": "d26c14bf",
   "metadata": {},
   "outputs": [],
   "source": [
    "# from the plot its evident that model has highest accuracy at 14 "
   ]
  },
  {
   "cell_type": "code",
   "execution_count": 67,
   "id": "7af17afe",
   "metadata": {},
   "outputs": [
    {
     "data": {
      "image/png": "[encoded data removed]",
      "text/plain": [
       "<Figure size 1000x800 with 2 Axes>"
      ]
     },
     "metadata": {},
     "output_type": "display_data"
    }
   ],
   "source": [
    "import matplotlib.pyplot as plt\n",
    "import seaborn as sns\n",
    "from sklearn.metrics import confusion_matrix, accuracy_score\n",
    "\n",
    "# Define the best K value\n",
    "best_k = 14\n",
    "\n",
    "# Initialize and train the KNN model with the best K value\n",
    "model = KNeighborsClassifier(n_neighbors=best_k)\n",
    "model.fit(X_train_scaled, y_train)\n",
    "\n",
    "# Predict using the trained model\n",
    "y_pred = model.predict(X_test_scaled)\n",
    "\n",
    "# Compute the confusion matrix\n",
    "cm = confusion_matrix(y_test, y_pred)\n",
    "\n",
    "# Calculate the accuracy\n",
    "accuracy = accuracy_score(y_test, y_pred)\n",
    "\n",
    "# Plot the confusion matrix\n",
    "plt.figure(figsize=(10, 8))\n",
    "sns.heatmap(cm, annot=True, cmap='Blues', fmt='d', \n",
    "            xticklabels=['<=50K', '>50K'], yticklabels=['<=50K', '>50K'])\n",
    "\n",
    "# Add labels and title\n",
    "plt.xlabel('Predicted')\n",
    "plt.ylabel('True')\n",
    "plt.title(f'Confusion Matrix for K = {best_k}')\n",
    "\n",
    "# Display accuracy below the heatmap\n",
    "plt.text(0.5, -0.1, f'Accuracy: {accuracy:.2f}', \n",
    "         horizontalalignment='center', verticalalignment='center', transform=plt.gca().transAxes)\n",
    "\n",
    "# Show plot\n",
    "plt.show()\n"
   ]
  },
  {
   "cell_type": "code",
   "execution_count": null,
   "id": "d33799da",
   "metadata": {},
   "outputs": [],
   "source": []
  }
 ],
 "metadata": {
  "kernelspec": {
   "display_name": "Python 3 (ipykernel)",
   "language": "python",
   "name": "python3"
  },
  "language_info": {
   "codemirror_mode": {
    "name": "ipython",
    "version": 3
   },
   "file_extension": ".py",
   "mimetype": "text/x-python",
   "name": "python",
   "nbconvert_exporter": "python",
   "pygments_lexer": "ipython3",
   "version": "3.11.5"
  }
 },
 "nbformat": 4,
 "nbformat_minor": 5
}
